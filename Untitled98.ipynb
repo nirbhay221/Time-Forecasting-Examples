{
  "nbformat": 4,
  "nbformat_minor": 0,
  "metadata": {
    "colab": {
      "name": "Untitled98.ipynb",
      "provenance": [],
      "collapsed_sections": []
    },
    "kernelspec": {
      "name": "python3",
      "display_name": "Python 3"
    }
  },
  "cells": [
    {
      "cell_type": "code",
      "metadata": {
        "id": "2EBO1CtjKMaZ"
      },
      "source": [
        "import csv\n",
        "import tensorflow as tf\n",
        "import matplotlib.pyplot as plt\n",
        "import pandas as pd\n",
        "import numpy as np"
      ],
      "execution_count": null,
      "outputs": []
    },
    {
      "cell_type": "code",
      "metadata": {
        "colab": {
          "base_uri": "https://localhost:8080/",
          "height": 204
        },
        "id": "ElT9wFRQLuCM",
        "outputId": "7f626879-b3bc-4f4b-aba7-92d9e8430e2b"
      },
      "source": [
        "df = pd.read_csv('/content/daily-max-temperatures.csv')\n",
        "df.head()"
      ],
      "execution_count": null,
      "outputs": [
        {
          "output_type": "execute_result",
          "data": {
            "text/html": [
              "<div>\n",
              "<style scoped>\n",
              "    .dataframe tbody tr th:only-of-type {\n",
              "        vertical-align: middle;\n",
              "    }\n",
              "\n",
              "    .dataframe tbody tr th {\n",
              "        vertical-align: top;\n",
              "    }\n",
              "\n",
              "    .dataframe thead th {\n",
              "        text-align: right;\n",
              "    }\n",
              "</style>\n",
              "<table border=\"1\" class=\"dataframe\">\n",
              "  <thead>\n",
              "    <tr style=\"text-align: right;\">\n",
              "      <th></th>\n",
              "      <th>Date</th>\n",
              "      <th>Temperature</th>\n",
              "    </tr>\n",
              "  </thead>\n",
              "  <tbody>\n",
              "    <tr>\n",
              "      <th>0</th>\n",
              "      <td>1981-01-01</td>\n",
              "      <td>38.1</td>\n",
              "    </tr>\n",
              "    <tr>\n",
              "      <th>1</th>\n",
              "      <td>1981-01-02</td>\n",
              "      <td>32.4</td>\n",
              "    </tr>\n",
              "    <tr>\n",
              "      <th>2</th>\n",
              "      <td>1981-01-03</td>\n",
              "      <td>34.5</td>\n",
              "    </tr>\n",
              "    <tr>\n",
              "      <th>3</th>\n",
              "      <td>1981-01-04</td>\n",
              "      <td>20.7</td>\n",
              "    </tr>\n",
              "    <tr>\n",
              "      <th>4</th>\n",
              "      <td>1981-01-05</td>\n",
              "      <td>21.5</td>\n",
              "    </tr>\n",
              "  </tbody>\n",
              "</table>\n",
              "</div>"
            ],
            "text/plain": [
              "         Date  Temperature\n",
              "0  1981-01-01         38.1\n",
              "1  1981-01-02         32.4\n",
              "2  1981-01-03         34.5\n",
              "3  1981-01-04         20.7\n",
              "4  1981-01-05         21.5"
            ]
          },
          "metadata": {
            "tags": []
          },
          "execution_count": 5
        }
      ]
    },
    {
      "cell_type": "code",
      "metadata": {
        "id": "H4b2WjJQLzzN"
      },
      "source": [
        "timesteps=[]\n",
        "sunspots=[]\n",
        "with open('/content/daily-max-temperatures.csv') as csv_file:\n",
        "  reader = csv.reader(csv_file,delimiter=',')\n",
        "  next(reader)\n",
        "  x=0\n",
        "  for row in reader:\n",
        "    sunspots.append(float(row[1]))\n",
        "    timesteps.append(int(x))\n",
        "    x=x+1\n"
      ],
      "execution_count": null,
      "outputs": []
    },
    {
      "cell_type": "code",
      "metadata": {
        "id": "YfAD5_zoPUDi"
      },
      "source": [
        "time = np.array(timesteps)\n",
        "series = np.array(sunspots)"
      ],
      "execution_count": null,
      "outputs": []
    },
    {
      "cell_type": "code",
      "metadata": {
        "colab": {
          "base_uri": "https://localhost:8080/"
        },
        "id": "S-gAepB5PbLR",
        "outputId": "73f2d492-d61d-462f-f547-79a76fcd5e0f"
      },
      "source": [
        "df.shape"
      ],
      "execution_count": null,
      "outputs": [
        {
          "output_type": "execute_result",
          "data": {
            "text/plain": [
              "(3650, 2)"
            ]
          },
          "metadata": {
            "tags": []
          },
          "execution_count": 8
        }
      ]
    },
    {
      "cell_type": "code",
      "metadata": {
        "id": "SZ7pEzLmPzjJ"
      },
      "source": [
        "split_time= 1000\n",
        "time_train = time[:split_time]\n",
        "time_test=time[split_time:]\n",
        "x_train= series[:split_time]\n",
        "x_test= series[split_time:]"
      ],
      "execution_count": null,
      "outputs": []
    },
    {
      "cell_type": "code",
      "metadata": {
        "id": "RLxoZnHjQKhg"
      },
      "source": [
        "def plot_series(time,series,format='-',start=0,end=None):\n",
        "  plt.plot(time[start:end],series[start:end],format)\n",
        "  plt.xlabel('Time')\n",
        "  plt.ylabel('Values')\n",
        "  plt.grid(False)"
      ],
      "execution_count": null,
      "outputs": []
    },
    {
      "cell_type": "code",
      "metadata": {
        "colab": {
          "base_uri": "https://localhost:8080/",
          "height": 283
        },
        "id": "V05NqURUQoaS",
        "outputId": "49e303cf-d3ed-48a8-e791-0a500c76c2e8"
      },
      "source": [
        "plot_series(time,series)"
      ],
      "execution_count": null,
      "outputs": [
        {
          "output_type": "display_data",
          "data": {
            "image/png": "[encoded data removed]",
            "text/plain": [
              "<Figure size 432x288 with 1 Axes>"
            ]
          },
          "metadata": {
            "tags": [],
            "needs_background": "light"
          }
        }
      ]
    },
    {
      "cell_type": "code",
      "metadata": {
        "id": "B-PGAM89QsP3"
      },
      "source": [
        "def windowed_dataset(series,window_size,batch_size,shuffle_buffer):\n",
        "  series=tf.expand_dims(series,axis=-1)\n",
        "  dataset = tf.data.Dataset.from_tensor_slices(series)\n",
        "  dataset = dataset.window(window_size+1,shift=1,drop_remainder=True)\n",
        "  dataset= dataset.flat_map(lambda window: window.batch(window_size+1))\n",
        "  dataset = dataset.shuffle(shuffle_buffer).map(lambda window: (window[:-1],window[-1]))\n",
        "  dataset =dataset.batch(batch_size).prefetch(-1)\n",
        "  return dataset\n"
      ],
      "execution_count": null,
      "outputs": []
    },
    {
      "cell_type": "code",
      "metadata": {
        "id": "TPsGPzcASh6y"
      },
      "source": [
        "def model_forecast(model,series,window_size):\n",
        "  dataset = tf.data.Dataset.from_tensor_slices(series)\n",
        "  dataset = dataset.window(window_size,shift=1,drop_remainder=True)\n",
        "  dataset= dataset.flat_map(lambda window: window.batch(window_size))\n",
        "  dataset =dataset.batch(32).prefetch(-1)\n",
        "  forecast = model.predict(dataset)\n",
        "  return forecast\n"
      ],
      "execution_count": null,
      "outputs": []
    },
    {
      "cell_type": "code",
      "metadata": {
        "id": "eudXXscdTgTG"
      },
      "source": [
        "window_size=20\n",
        "batch_size=32\n",
        "shuffle_buffer_size=1000\n",
        "dataset= windowed_dataset(x_train,window_size,batch_size,shuffle_buffer=shuffle_buffer_size)"
      ],
      "execution_count": null,
      "outputs": []
    },
    {
      "cell_type": "code",
      "metadata": {
        "id": "cU6jw68ETsIT"
      },
      "source": [
        "model = tf.keras.models.Sequential([\n",
        "                                    tf.keras.layers.Conv1D(filters=100,strides=1,padding='causal',activation='relu',input_shape=[None,1],kernel_size=5),\n",
        "                                    tf.keras.layers.Bidirectional(tf.keras.layers.LSTM(20,return_sequences=True)),\n",
        "                                    tf.keras.layers.Bidirectional(tf.keras.layers.LSTM(20,return_sequences=True)),\n",
        "                                    tf.keras.layers.Dense(30,activation='relu'),\n",
        "                                    tf.keras.layers.Dense(10,activation='relu'),\n",
        "                                    tf.keras.layers.Dense(1),\n",
        "                                    tf.keras.layers.Lambda(lambda x : x*400)\n",
        "])"
      ],
      "execution_count": null,
      "outputs": []
    },
    {
      "cell_type": "code",
      "metadata": {
        "id": "vaWLi79VWj9Z"
      },
      "source": [
        "lr_scheduler=tf.keras.callbacks.LearningRateScheduler(lambda epochs: 1e-8*10**(epochs/20))\n",
        "model.compile(loss=tf.keras.losses.Huber(),optimizer=tf.keras.optimizers.SGD(lr=1e-8,momentum=0.9),metrics=['mae'])"
      ],
      "execution_count": null,
      "outputs": []
    },
    {
      "cell_type": "code",
      "metadata": {
        "colab": {
          "base_uri": "https://localhost:8080/"
        },
        "id": "CWQePZCvYtsZ",
        "outputId": "6117c90d-60ee-46e1-a857-4e24ffc4a52b"
      },
      "source": [
        "history=model.fit(dataset,epochs=100,callbacks=[lr_scheduler])"
      ],
      "execution_count": null,
      "outputs": [
        {
          "output_type": "stream",
          "text": [
            "Epoch 1/100\n",
            "31/31 [==============================] - 1s 28ms/step - loss: 46.5729 - mae: 47.0715\n",
            "Epoch 2/100\n",
            "31/31 [==============================] - 1s 27ms/step - loss: 33.7564 - mae: 34.2537\n",
            "Epoch 3/100\n",
            "31/31 [==============================] - 1s 29ms/step - loss: 20.3525 - mae: 20.8475\n",
            "Epoch 4/100\n",
            "31/31 [==============================] - 1s 28ms/step - loss: 14.6103 - mae: 15.1034\n",
            "Epoch 5/100\n",
            "31/31 [==============================] - 1s 27ms/step - loss: 13.2348 - mae: 13.7263\n",
            "Epoch 6/100\n",
            "31/31 [==============================] - 1s 27ms/step - loss: 12.3727 - mae: 12.8645\n",
            "Epoch 7/100\n",
            "31/31 [==============================] - 1s 28ms/step - loss: 11.4983 - mae: 11.9896\n",
            "Epoch 8/100\n",
            "31/31 [==============================] - 1s 27ms/step - loss: 10.6234 - mae: 11.1145\n",
            "Epoch 9/100\n",
            "31/31 [==============================] - 1s 28ms/step - loss: 9.7721 - mae: 10.2627\n",
            "Epoch 10/100\n",
            "31/31 [==============================] - 1s 27ms/step - loss: 9.0050 - mae: 9.4938\n",
            "Epoch 11/100\n",
            "31/31 [==============================] - 1s 27ms/step - loss: 8.3684 - mae: 8.8557\n",
            "Epoch 12/100\n",
            "31/31 [==============================] - 1s 27ms/step - loss: 7.8711 - mae: 8.3585\n",
            "Epoch 13/100\n",
            "31/31 [==============================] - 1s 27ms/step - loss: 7.4730 - mae: 7.9595\n",
            "Epoch 14/100\n",
            "31/31 [==============================] - 1s 32ms/step - loss: 7.1602 - mae: 7.6445\n",
            "Epoch 15/100\n",
            "31/31 [==============================] - 1s 27ms/step - loss: 6.8930 - mae: 7.3758\n",
            "Epoch 16/100\n",
            "31/31 [==============================] - 1s 31ms/step - loss: 6.6474 - mae: 7.1303\n",
            "Epoch 17/100\n",
            "31/31 [==============================] - 1s 27ms/step - loss: 6.4158 - mae: 6.8977\n",
            "Epoch 18/100\n",
            "31/31 [==============================] - 1s 28ms/step - loss: 6.1911 - mae: 6.6723\n",
            "Epoch 19/100\n",
            "31/31 [==============================] - 1s 28ms/step - loss: 5.9798 - mae: 6.4604\n",
            "Epoch 20/100\n",
            "31/31 [==============================] - 1s 28ms/step - loss: 5.8030 - mae: 6.2842\n",
            "Epoch 21/100\n",
            "31/31 [==============================] - 1s 28ms/step - loss: 5.6263 - mae: 6.1068\n",
            "Epoch 22/100\n",
            "31/31 [==============================] - 1s 27ms/step - loss: 5.4842 - mae: 5.9646\n",
            "Epoch 23/100\n",
            "31/31 [==============================] - 1s 27ms/step - loss: 5.3290 - mae: 5.8092\n",
            "Epoch 24/100\n",
            "31/31 [==============================] - 1s 27ms/step - loss: 5.1908 - mae: 5.6704\n",
            "Epoch 25/100\n",
            "31/31 [==============================] - 1s 28ms/step - loss: 5.0530 - mae: 5.5323\n",
            "Epoch 26/100\n",
            "31/31 [==============================] - 1s 28ms/step - loss: 4.9291 - mae: 5.4084\n",
            "Epoch 27/100\n",
            "31/31 [==============================] - 1s 27ms/step - loss: 4.8000 - mae: 5.2780\n",
            "Epoch 28/100\n",
            "31/31 [==============================] - 1s 27ms/step - loss: 4.7016 - mae: 5.1791\n",
            "Epoch 29/100\n",
            "31/31 [==============================] - 1s 27ms/step - loss: 4.5556 - mae: 5.0320\n",
            "Epoch 30/100\n",
            "31/31 [==============================] - 1s 27ms/step - loss: 4.4471 - mae: 4.9230\n",
            "Epoch 31/100\n",
            "31/31 [==============================] - 1s 28ms/step - loss: 4.3385 - mae: 4.8151\n",
            "Epoch 32/100\n",
            "31/31 [==============================] - 1s 28ms/step - loss: 4.2522 - mae: 4.7273\n",
            "Epoch 33/100\n",
            "31/31 [==============================] - 1s 27ms/step - loss: 4.1522 - mae: 4.6278\n",
            "Epoch 34/100\n",
            "31/31 [==============================] - 1s 29ms/step - loss: 4.0465 - mae: 4.5211\n",
            "Epoch 35/100\n",
            "31/31 [==============================] - 1s 28ms/step - loss: 3.9977 - mae: 4.4712\n",
            "Epoch 36/100\n",
            "31/31 [==============================] - 1s 28ms/step - loss: 3.9224 - mae: 4.3957\n",
            "Epoch 37/100\n",
            "31/31 [==============================] - 1s 28ms/step - loss: 3.8778 - mae: 4.3504\n",
            "Epoch 38/100\n",
            "31/31 [==============================] - 1s 28ms/step - loss: 3.8970 - mae: 4.3698\n",
            "Epoch 39/100\n",
            "31/31 [==============================] - 1s 28ms/step - loss: 3.9332 - mae: 4.4070\n",
            "Epoch 40/100\n",
            "31/31 [==============================] - 1s 28ms/step - loss: 3.7501 - mae: 4.2207\n",
            "Epoch 41/100\n",
            "31/31 [==============================] - 1s 28ms/step - loss: 3.6735 - mae: 4.1453\n",
            "Epoch 42/100\n",
            "31/31 [==============================] - 1s 28ms/step - loss: 3.7447 - mae: 4.2155\n",
            "Epoch 43/100\n",
            "31/31 [==============================] - 1s 28ms/step - loss: 3.5884 - mae: 4.0590\n",
            "Epoch 44/100\n",
            "31/31 [==============================] - 1s 27ms/step - loss: 3.5544 - mae: 4.0249\n",
            "Epoch 45/100\n",
            "31/31 [==============================] - 1s 28ms/step - loss: 3.6617 - mae: 4.1325\n",
            "Epoch 46/100\n",
            "31/31 [==============================] - 1s 27ms/step - loss: 3.5880 - mae: 4.0579\n",
            "Epoch 47/100\n",
            "31/31 [==============================] - 1s 29ms/step - loss: 3.4321 - mae: 3.9012\n",
            "Epoch 48/100\n",
            "31/31 [==============================] - 1s 29ms/step - loss: 3.4260 - mae: 3.8942\n",
            "Epoch 49/100\n",
            "31/31 [==============================] - 1s 27ms/step - loss: 3.7475 - mae: 4.2188\n",
            "Epoch 50/100\n",
            "31/31 [==============================] - 1s 27ms/step - loss: 3.5728 - mae: 4.0423\n",
            "Epoch 51/100\n",
            "31/31 [==============================] - 1s 28ms/step - loss: 3.6565 - mae: 4.1270\n",
            "Epoch 52/100\n",
            "31/31 [==============================] - 1s 28ms/step - loss: 3.6306 - mae: 4.1022\n",
            "Epoch 53/100\n",
            "31/31 [==============================] - 1s 27ms/step - loss: 3.3686 - mae: 3.8367\n",
            "Epoch 54/100\n",
            "31/31 [==============================] - 1s 27ms/step - loss: 3.3375 - mae: 3.8056\n",
            "Epoch 55/100\n",
            "31/31 [==============================] - 1s 27ms/step - loss: 3.7642 - mae: 4.2360\n",
            "Epoch 56/100\n",
            "31/31 [==============================] - 1s 28ms/step - loss: 4.8838 - mae: 5.3636\n",
            "Epoch 57/100\n",
            "31/31 [==============================] - 1s 27ms/step - loss: 3.9915 - mae: 4.4683\n",
            "Epoch 58/100\n",
            "31/31 [==============================] - 1s 27ms/step - loss: 3.3440 - mae: 3.8121\n",
            "Epoch 59/100\n",
            "31/31 [==============================] - 1s 27ms/step - loss: 5.0734 - mae: 5.5542\n",
            "Epoch 60/100\n",
            "31/31 [==============================] - 1s 27ms/step - loss: 4.1970 - mae: 4.6716\n",
            "Epoch 61/100\n",
            "31/31 [==============================] - 1s 28ms/step - loss: 4.2339 - mae: 4.7092\n",
            "Epoch 62/100\n",
            "31/31 [==============================] - 1s 28ms/step - loss: 7.9351 - mae: 8.4238\n",
            "Epoch 63/100\n",
            "31/31 [==============================] - 1s 27ms/step - loss: 5.7199 - mae: 6.2012\n",
            "Epoch 64/100\n",
            "31/31 [==============================] - 1s 28ms/step - loss: 3.3842 - mae: 3.8536\n",
            "Epoch 65/100\n",
            "31/31 [==============================] - 1s 28ms/step - loss: 3.6998 - mae: 4.1725\n",
            "Epoch 66/100\n",
            "31/31 [==============================] - 1s 28ms/step - loss: 4.8424 - mae: 5.3227\n",
            "Epoch 67/100\n",
            "31/31 [==============================] - 1s 28ms/step - loss: 3.3315 - mae: 3.8021\n",
            "Epoch 68/100\n",
            "31/31 [==============================] - 1s 27ms/step - loss: 4.9613 - mae: 5.4418\n",
            "Epoch 69/100\n",
            "31/31 [==============================] - 1s 28ms/step - loss: 4.0576 - mae: 4.5333\n",
            "Epoch 70/100\n",
            "31/31 [==============================] - 1s 29ms/step - loss: 3.7443 - mae: 4.2171\n",
            "Epoch 71/100\n",
            "31/31 [==============================] - 1s 28ms/step - loss: 3.7614 - mae: 4.2350\n",
            "Epoch 72/100\n",
            "31/31 [==============================] - 1s 28ms/step - loss: 3.3495 - mae: 3.8207\n",
            "Epoch 73/100\n",
            "31/31 [==============================] - 1s 27ms/step - loss: 5.4617 - mae: 5.9445\n",
            "Epoch 74/100\n",
            "31/31 [==============================] - 1s 27ms/step - loss: 4.2207 - mae: 4.6951\n",
            "Epoch 75/100\n",
            "31/31 [==============================] - 1s 28ms/step - loss: 5.4691 - mae: 5.9519\n",
            "Epoch 76/100\n",
            "31/31 [==============================] - 1s 28ms/step - loss: 4.1365 - mae: 4.6117\n",
            "Epoch 77/100\n",
            "31/31 [==============================] - 1s 28ms/step - loss: 5.2683 - mae: 5.7499\n",
            "Epoch 78/100\n",
            "31/31 [==============================] - 1s 28ms/step - loss: 5.7861 - mae: 6.2686\n",
            "Epoch 79/100\n",
            "31/31 [==============================] - 1s 27ms/step - loss: 4.6949 - mae: 5.1734\n",
            "Epoch 80/100\n",
            "31/31 [==============================] - 1s 27ms/step - loss: 4.8949 - mae: 5.3735\n",
            "Epoch 81/100\n",
            "31/31 [==============================] - 1s 27ms/step - loss: 10.3239 - mae: 10.8133\n",
            "Epoch 82/100\n",
            "31/31 [==============================] - 1s 28ms/step - loss: 13.7211 - mae: 14.2164\n",
            "Epoch 83/100\n",
            "31/31 [==============================] - 1s 28ms/step - loss: 5.2463 - mae: 5.7278\n",
            "Epoch 84/100\n",
            "31/31 [==============================] - 1s 28ms/step - loss: 8.0440 - mae: 8.5309\n",
            "Epoch 85/100\n",
            "31/31 [==============================] - 1s 28ms/step - loss: 7.8440 - mae: 8.3346\n",
            "Epoch 86/100\n",
            "31/31 [==============================] - 1s 33ms/step - loss: 10.9756 - mae: 11.4661\n",
            "Epoch 87/100\n",
            "31/31 [==============================] - 1s 28ms/step - loss: 21.8400 - mae: 22.3366\n",
            "Epoch 88/100\n",
            "31/31 [==============================] - 1s 28ms/step - loss: 33.3088 - mae: 33.8085\n",
            "Epoch 89/100\n",
            "31/31 [==============================] - 1s 28ms/step - loss: 38.4046 - mae: 38.9046\n",
            "Epoch 90/100\n",
            "31/31 [==============================] - 1s 28ms/step - loss: 27.3236 - mae: 27.8202\n",
            "Epoch 91/100\n",
            "31/31 [==============================] - 1s 28ms/step - loss: 45.0527 - mae: 45.5506\n",
            "Epoch 92/100\n",
            "31/31 [==============================] - 1s 28ms/step - loss: 48.1099 - mae: 48.6085\n",
            "Epoch 93/100\n",
            "31/31 [==============================] - 1s 28ms/step - loss: 52.7905 - mae: 53.2888\n",
            "Epoch 94/100\n",
            "31/31 [==============================] - 1s 28ms/step - loss: 47.1903 - mae: 47.6868\n",
            "Epoch 95/100\n",
            "31/31 [==============================] - 1s 28ms/step - loss: 82.3467 - mae: 82.8462\n",
            "Epoch 96/100\n",
            "31/31 [==============================] - 1s 27ms/step - loss: 54.2289 - mae: 54.7273\n",
            "Epoch 97/100\n",
            "31/31 [==============================] - 1s 28ms/step - loss: 51.9466 - mae: 52.4466\n",
            "Epoch 98/100\n",
            "31/31 [==============================] - 1s 30ms/step - loss: 84.1111 - mae: 84.6102\n",
            "Epoch 99/100\n",
            "31/31 [==============================] - 1s 29ms/step - loss: 196.1655 - mae: 196.6652\n",
            "Epoch 100/100\n",
            "31/31 [==============================] - 1s 28ms/step - loss: 184.4735 - mae: 184.9735\n"
          ],
          "name": "stdout"
        }
      ]
    },
    {
      "cell_type": "code",
      "metadata": {
        "colab": {
          "base_uri": "https://localhost:8080/",
          "height": 286
        },
        "id": "Bhd2QfxgY3R0",
        "outputId": "2c92aa21-5f6c-4c8b-d56a-68df994854d5"
      },
      "source": [
        "plt.semilogx(history.history['lr'],history.history['loss'])"
      ],
      "execution_count": null,
      "outputs": [
        {
          "output_type": "execute_result",
          "data": {
            "text/plain": [
              "[<matplotlib.lines.Line2D at 0x7f2aab743320>]"
            ]
          },
          "metadata": {
            "tags": []
          },
          "execution_count": 26
        },
        {
          "output_type": "display_data",
          "data": {
            "image/png": "[encoded data removed]",
            "text/plain": [
              "<Figure size 432x288 with 1 Axes>"
            ]
          },
          "metadata": {
            "tags": [],
            "needs_background": "light"
          }
        }
      ]
    },
    {
      "cell_type": "code",
      "metadata": {
        "id": "ElnhqOhsbtye"
      },
      "source": [
        "window_size=20\n",
        "batch_size=32\n",
        "shuffle_buffer_size=1000\n",
        "dataset= windowed_dataset(x_train,window_size,batch_size,shuffle_buffer=shuffle_buffer_size)\n",
        "model = tf.keras.models.Sequential([\n",
        "                                    tf.keras.layers.Conv1D(filters=200,strides=1,padding='causal',activation='relu',input_shape=[None,1],kernel_size=5),\n",
        "                                    tf.keras.layers.Bidirectional(tf.keras.layers.LSTM(20,return_sequences=True)),\n",
        "                                    tf.keras.layers.Bidirectional(tf.keras.layers.LSTM(20,return_sequences=True)),\n",
        "                                    tf.keras.layers.Dense(30,activation='relu'),\n",
        "                                    tf.keras.layers.Dense(10,activation='relu'),\n",
        "                                    tf.keras.layers.Dense(1),\n",
        "                                    tf.keras.layers.Lambda(lambda x : x*400)\n",
        "])\n",
        "\n",
        "model.compile(loss=tf.keras.losses.Huber(),optimizer=tf.keras.optimizers.SGD(lr=1e-6,momentum=0.9),metrics=['mae'])"
      ],
      "execution_count": null,
      "outputs": []
    },
    {
      "cell_type": "code",
      "metadata": {
        "colab": {
          "base_uri": "https://localhost:8080/"
        },
        "id": "AO3XCSlzbzZO",
        "outputId": "3807ebe7-50c1-40e9-9425-df14db77d7fd"
      },
      "source": [
        "history=model.fit(dataset,epochs=150)"
      ],
      "execution_count": null,
      "outputs": [
        {
          "output_type": "stream",
          "text": [
            "Epoch 1/150\n",
            "31/31 [==============================] - 1s 31ms/step - loss: 2.8101 - mae: 3.2715\n",
            "Epoch 2/150\n",
            "31/31 [==============================] - 1s 30ms/step - loss: 2.9335 - mae: 3.3991\n",
            "Epoch 3/150\n",
            "31/31 [==============================] - 1s 31ms/step - loss: 2.9153 - mae: 3.3788\n",
            "Epoch 4/150\n",
            "31/31 [==============================] - 1s 32ms/step - loss: 2.8923 - mae: 3.3567\n",
            "Epoch 5/150\n",
            "31/31 [==============================] - 1s 30ms/step - loss: 2.7929 - mae: 3.2533\n",
            "Epoch 6/150\n",
            "31/31 [==============================] - 1s 31ms/step - loss: 2.7627 - mae: 3.2224\n",
            "Epoch 7/150\n",
            "31/31 [==============================] - 1s 31ms/step - loss: 2.7648 - mae: 3.2260\n",
            "Epoch 8/150\n",
            "31/31 [==============================] - 1s 30ms/step - loss: 2.9821 - mae: 3.4459\n",
            "Epoch 9/150\n",
            "31/31 [==============================] - 1s 30ms/step - loss: 2.9149 - mae: 3.3770\n",
            "Epoch 10/150\n",
            "31/31 [==============================] - 1s 30ms/step - loss: 2.7757 - mae: 3.2364\n",
            "Epoch 11/150\n",
            "31/31 [==============================] - 1s 30ms/step - loss: 2.8094 - mae: 3.2727\n",
            "Epoch 12/150\n",
            "31/31 [==============================] - 1s 31ms/step - loss: 2.7888 - mae: 3.2486\n",
            "Epoch 13/150\n",
            "31/31 [==============================] - 1s 30ms/step - loss: 2.7637 - mae: 3.2236\n",
            "Epoch 14/150\n",
            "31/31 [==============================] - 1s 31ms/step - loss: 2.9151 - mae: 3.3782\n",
            "Epoch 15/150\n",
            "31/31 [==============================] - 1s 31ms/step - loss: 2.9096 - mae: 3.3732\n",
            "Epoch 16/150\n",
            "31/31 [==============================] - 1s 30ms/step - loss: 2.8660 - mae: 3.3274\n",
            "Epoch 17/150\n",
            "31/31 [==============================] - 1s 33ms/step - loss: 2.8370 - mae: 3.2991\n",
            "Epoch 18/150\n",
            "31/31 [==============================] - 1s 30ms/step - loss: 2.8979 - mae: 3.3606\n",
            "Epoch 19/150\n",
            "31/31 [==============================] - 1s 30ms/step - loss: 2.8304 - mae: 3.2927\n",
            "Epoch 20/150\n",
            "31/31 [==============================] - 1s 30ms/step - loss: 2.7795 - mae: 3.2402\n",
            "Epoch 21/150\n",
            "31/31 [==============================] - 1s 30ms/step - loss: 2.7955 - mae: 3.2534\n",
            "Epoch 22/150\n",
            "31/31 [==============================] - 1s 31ms/step - loss: 2.9173 - mae: 3.3784\n",
            "Epoch 23/150\n",
            "31/31 [==============================] - 1s 31ms/step - loss: 2.8788 - mae: 3.3430\n",
            "Epoch 24/150\n",
            "31/31 [==============================] - 1s 31ms/step - loss: 2.8817 - mae: 3.3424\n",
            "Epoch 25/150\n",
            "31/31 [==============================] - 1s 31ms/step - loss: 2.7730 - mae: 3.2326\n",
            "Epoch 26/150\n",
            "31/31 [==============================] - 1s 30ms/step - loss: 2.7266 - mae: 3.1841\n",
            "Epoch 27/150\n",
            "31/31 [==============================] - 1s 31ms/step - loss: 2.7782 - mae: 3.2373\n",
            "Epoch 28/150\n",
            "31/31 [==============================] - 1s 31ms/step - loss: 2.8457 - mae: 3.3072\n",
            "Epoch 29/150\n",
            "31/31 [==============================] - 1s 30ms/step - loss: 2.7780 - mae: 3.2395\n",
            "Epoch 30/150\n",
            "31/31 [==============================] - 1s 31ms/step - loss: 2.8531 - mae: 3.3164\n",
            "Epoch 31/150\n",
            "31/31 [==============================] - 1s 31ms/step - loss: 2.7647 - mae: 3.2235\n",
            "Epoch 32/150\n",
            "31/31 [==============================] - 1s 31ms/step - loss: 2.7626 - mae: 3.2226\n",
            "Epoch 33/150\n",
            "31/31 [==============================] - 1s 30ms/step - loss: 2.9404 - mae: 3.4033\n",
            "Epoch 34/150\n",
            "31/31 [==============================] - 1s 31ms/step - loss: 2.8417 - mae: 3.3049\n",
            "Epoch 35/150\n",
            "31/31 [==============================] - 1s 30ms/step - loss: 2.7723 - mae: 3.2327\n",
            "Epoch 36/150\n",
            "31/31 [==============================] - 1s 30ms/step - loss: 2.8284 - mae: 3.2880\n",
            "Epoch 37/150\n",
            "31/31 [==============================] - 1s 30ms/step - loss: 2.8461 - mae: 3.3069\n",
            "Epoch 38/150\n",
            "31/31 [==============================] - 1s 31ms/step - loss: 2.8547 - mae: 3.3186\n",
            "Epoch 39/150\n",
            "31/31 [==============================] - 1s 30ms/step - loss: 2.9205 - mae: 3.3853\n",
            "Epoch 40/150\n",
            "31/31 [==============================] - 1s 30ms/step - loss: 2.8221 - mae: 3.2839\n",
            "Epoch 41/150\n",
            "31/31 [==============================] - 1s 31ms/step - loss: 2.9517 - mae: 3.4164\n",
            "Epoch 42/150\n",
            "31/31 [==============================] - 1s 30ms/step - loss: 3.0614 - mae: 3.5266\n",
            "Epoch 43/150\n",
            "31/31 [==============================] - 1s 31ms/step - loss: 2.7955 - mae: 3.2544\n",
            "Epoch 44/150\n",
            "31/31 [==============================] - 1s 31ms/step - loss: 2.7437 - mae: 3.2039\n",
            "Epoch 45/150\n",
            "31/31 [==============================] - 1s 30ms/step - loss: 2.8122 - mae: 3.2720\n",
            "Epoch 46/150\n",
            "31/31 [==============================] - 1s 30ms/step - loss: 2.7406 - mae: 3.1991\n",
            "Epoch 47/150\n",
            "31/31 [==============================] - 1s 30ms/step - loss: 2.8031 - mae: 3.2646\n",
            "Epoch 48/150\n",
            "31/31 [==============================] - 1s 31ms/step - loss: 2.7889 - mae: 3.2472\n",
            "Epoch 49/150\n",
            "31/31 [==============================] - 1s 31ms/step - loss: 2.7669 - mae: 3.2247\n",
            "Epoch 50/150\n",
            "31/31 [==============================] - 1s 31ms/step - loss: 2.7843 - mae: 3.2455\n",
            "Epoch 51/150\n",
            "31/31 [==============================] - 1s 31ms/step - loss: 2.9081 - mae: 3.3708\n",
            "Epoch 52/150\n",
            "31/31 [==============================] - 1s 30ms/step - loss: 2.8436 - mae: 3.3044\n",
            "Epoch 53/150\n",
            "31/31 [==============================] - 1s 31ms/step - loss: 2.9623 - mae: 3.4283\n",
            "Epoch 54/150\n",
            "31/31 [==============================] - 1s 31ms/step - loss: 2.8309 - mae: 3.2939\n",
            "Epoch 55/150\n",
            "31/31 [==============================] - 1s 31ms/step - loss: 2.8791 - mae: 3.3383\n",
            "Epoch 56/150\n",
            "31/31 [==============================] - 1s 31ms/step - loss: 2.8257 - mae: 3.2897\n",
            "Epoch 57/150\n",
            "31/31 [==============================] - 1s 32ms/step - loss: 2.9964 - mae: 3.4609\n",
            "Epoch 58/150\n",
            "31/31 [==============================] - 1s 34ms/step - loss: 2.8430 - mae: 3.3040\n",
            "Epoch 59/150\n",
            "31/31 [==============================] - 1s 30ms/step - loss: 2.7746 - mae: 3.2355\n",
            "Epoch 60/150\n",
            "31/31 [==============================] - 1s 32ms/step - loss: 2.8191 - mae: 3.2807\n",
            "Epoch 61/150\n",
            "31/31 [==============================] - 1s 30ms/step - loss: 2.7763 - mae: 3.2356\n",
            "Epoch 62/150\n",
            "31/31 [==============================] - 1s 31ms/step - loss: 2.7619 - mae: 3.2216\n",
            "Epoch 63/150\n",
            "31/31 [==============================] - 1s 31ms/step - loss: 2.8275 - mae: 3.2887\n",
            "Epoch 64/150\n",
            "31/31 [==============================] - 1s 30ms/step - loss: 2.7681 - mae: 3.2270\n",
            "Epoch 65/150\n",
            "31/31 [==============================] - 1s 31ms/step - loss: 2.7670 - mae: 3.2258\n",
            "Epoch 66/150\n",
            "31/31 [==============================] - 1s 31ms/step - loss: 2.7940 - mae: 3.2535\n",
            "Epoch 67/150\n",
            "31/31 [==============================] - 1s 31ms/step - loss: 3.0153 - mae: 3.4796\n",
            "Epoch 68/150\n",
            "31/31 [==============================] - 1s 31ms/step - loss: 2.7966 - mae: 3.2571\n",
            "Epoch 69/150\n",
            "31/31 [==============================] - 1s 30ms/step - loss: 2.7515 - mae: 3.2111\n",
            "Epoch 70/150\n",
            "31/31 [==============================] - 1s 31ms/step - loss: 2.8055 - mae: 3.2678\n",
            "Epoch 71/150\n",
            "31/31 [==============================] - 1s 31ms/step - loss: 2.8040 - mae: 3.2630\n",
            "Epoch 72/150\n",
            "31/31 [==============================] - 1s 32ms/step - loss: 2.7344 - mae: 3.1952\n",
            "Epoch 73/150\n",
            "31/31 [==============================] - 1s 30ms/step - loss: 2.7919 - mae: 3.2531\n",
            "Epoch 74/150\n",
            "31/31 [==============================] - 1s 30ms/step - loss: 2.7668 - mae: 3.2260\n",
            "Epoch 75/150\n",
            "31/31 [==============================] - 1s 31ms/step - loss: 2.8954 - mae: 3.3595\n",
            "Epoch 76/150\n",
            "31/31 [==============================] - 1s 31ms/step - loss: 2.7692 - mae: 3.2287\n",
            "Epoch 77/150\n",
            "31/31 [==============================] - 1s 30ms/step - loss: 2.7613 - mae: 3.2218\n",
            "Epoch 78/150\n",
            "31/31 [==============================] - 1s 30ms/step - loss: 2.8332 - mae: 3.2967\n",
            "Epoch 79/150\n",
            "31/31 [==============================] - 1s 31ms/step - loss: 2.7735 - mae: 3.2333\n",
            "Epoch 80/150\n",
            "31/31 [==============================] - 1s 31ms/step - loss: 2.7813 - mae: 3.2402\n",
            "Epoch 81/150\n",
            "31/31 [==============================] - 1s 30ms/step - loss: 2.7445 - mae: 3.2031\n",
            "Epoch 82/150\n",
            "31/31 [==============================] - 1s 31ms/step - loss: 2.7136 - mae: 3.1742\n",
            "Epoch 83/150\n",
            "31/31 [==============================] - 1s 31ms/step - loss: 2.7248 - mae: 3.1839\n",
            "Epoch 84/150\n",
            "31/31 [==============================] - 1s 30ms/step - loss: 2.8031 - mae: 3.2649\n",
            "Epoch 85/150\n",
            "31/31 [==============================] - 1s 31ms/step - loss: 2.7417 - mae: 3.2006\n",
            "Epoch 86/150\n",
            "31/31 [==============================] - 1s 31ms/step - loss: 2.7229 - mae: 3.1822\n",
            "Epoch 87/150\n",
            "31/31 [==============================] - 1s 33ms/step - loss: 2.7355 - mae: 3.1967\n",
            "Epoch 88/150\n",
            "31/31 [==============================] - 1s 30ms/step - loss: 2.7792 - mae: 3.2413\n",
            "Epoch 89/150\n",
            "31/31 [==============================] - 1s 31ms/step - loss: 2.7230 - mae: 3.1816\n",
            "Epoch 90/150\n",
            "31/31 [==============================] - 1s 31ms/step - loss: 3.0202 - mae: 3.4855\n",
            "Epoch 91/150\n",
            "31/31 [==============================] - 1s 30ms/step - loss: 2.9851 - mae: 3.4486\n",
            "Epoch 92/150\n",
            "31/31 [==============================] - 1s 30ms/step - loss: 2.8234 - mae: 3.2857\n",
            "Epoch 93/150\n",
            "31/31 [==============================] - 1s 30ms/step - loss: 2.7510 - mae: 3.2118\n",
            "Epoch 94/150\n",
            "31/31 [==============================] - 1s 31ms/step - loss: 2.7146 - mae: 3.1736\n",
            "Epoch 95/150\n",
            "31/31 [==============================] - 1s 33ms/step - loss: 2.7283 - mae: 3.1864\n",
            "Epoch 96/150\n",
            "31/31 [==============================] - 1s 31ms/step - loss: 2.7752 - mae: 3.2372\n",
            "Epoch 97/150\n",
            "31/31 [==============================] - 1s 32ms/step - loss: 2.7956 - mae: 3.2558\n",
            "Epoch 98/150\n",
            "31/31 [==============================] - 1s 31ms/step - loss: 2.8153 - mae: 3.2766\n",
            "Epoch 99/150\n",
            "31/31 [==============================] - 1s 30ms/step - loss: 2.7697 - mae: 3.2308\n",
            "Epoch 100/150\n",
            "31/31 [==============================] - 1s 31ms/step - loss: 2.8264 - mae: 3.2902\n",
            "Epoch 101/150\n",
            "31/31 [==============================] - 1s 31ms/step - loss: 2.8205 - mae: 3.2806\n",
            "Epoch 102/150\n",
            "31/31 [==============================] - 1s 31ms/step - loss: 2.9337 - mae: 3.3953\n",
            "Epoch 103/150\n",
            "31/31 [==============================] - 1s 31ms/step - loss: 2.8159 - mae: 3.2777\n",
            "Epoch 104/150\n",
            "31/31 [==============================] - 1s 31ms/step - loss: 2.8691 - mae: 3.3335\n",
            "Epoch 105/150\n",
            "31/31 [==============================] - 1s 31ms/step - loss: 2.7516 - mae: 3.2111\n",
            "Epoch 106/150\n",
            "31/31 [==============================] - 1s 31ms/step - loss: 2.7417 - mae: 3.2010\n",
            "Epoch 107/150\n",
            "31/31 [==============================] - 1s 30ms/step - loss: 2.7514 - mae: 3.2102\n",
            "Epoch 108/150\n",
            "31/31 [==============================] - 1s 32ms/step - loss: 2.7822 - mae: 3.2445\n",
            "Epoch 109/150\n",
            "31/31 [==============================] - 1s 33ms/step - loss: 2.6995 - mae: 3.1584\n",
            "Epoch 110/150\n",
            "31/31 [==============================] - 1s 30ms/step - loss: 2.7286 - mae: 3.1870\n",
            "Epoch 111/150\n",
            "31/31 [==============================] - 1s 34ms/step - loss: 2.7486 - mae: 3.2073\n",
            "Epoch 112/150\n",
            "31/31 [==============================] - 1s 36ms/step - loss: 2.7429 - mae: 3.2029\n",
            "Epoch 113/150\n",
            "31/31 [==============================] - 1s 32ms/step - loss: 2.8110 - mae: 3.2719\n",
            "Epoch 114/150\n",
            "31/31 [==============================] - 1s 32ms/step - loss: 2.7563 - mae: 3.2176\n",
            "Epoch 115/150\n",
            "31/31 [==============================] - 1s 32ms/step - loss: 2.9473 - mae: 3.4111\n",
            "Epoch 116/150\n",
            "31/31 [==============================] - 1s 33ms/step - loss: 2.7684 - mae: 3.2284\n",
            "Epoch 117/150\n",
            "31/31 [==============================] - 1s 32ms/step - loss: 2.8466 - mae: 3.3091\n",
            "Epoch 118/150\n",
            "31/31 [==============================] - 1s 32ms/step - loss: 2.7478 - mae: 3.2075\n",
            "Epoch 119/150\n",
            "31/31 [==============================] - 1s 31ms/step - loss: 2.9285 - mae: 3.3922\n",
            "Epoch 120/150\n",
            "31/31 [==============================] - 1s 31ms/step - loss: 2.7389 - mae: 3.1995\n",
            "Epoch 121/150\n",
            "31/31 [==============================] - 1s 33ms/step - loss: 3.0159 - mae: 3.4801\n",
            "Epoch 122/150\n",
            "31/31 [==============================] - 1s 32ms/step - loss: 2.7556 - mae: 3.2180\n",
            "Epoch 123/150\n",
            "31/31 [==============================] - 1s 32ms/step - loss: 2.7757 - mae: 3.2366\n",
            "Epoch 124/150\n",
            "31/31 [==============================] - 1s 31ms/step - loss: 3.0296 - mae: 3.4947\n",
            "Epoch 125/150\n",
            "31/31 [==============================] - 1s 31ms/step - loss: 2.7303 - mae: 3.1901\n",
            "Epoch 126/150\n",
            "31/31 [==============================] - 1s 31ms/step - loss: 2.7168 - mae: 3.1762\n",
            "Epoch 127/150\n",
            "31/31 [==============================] - 1s 31ms/step - loss: 2.7688 - mae: 3.2305\n",
            "Epoch 128/150\n",
            "31/31 [==============================] - 1s 34ms/step - loss: 2.7173 - mae: 3.1738\n",
            "Epoch 129/150\n",
            "31/31 [==============================] - 1s 31ms/step - loss: 2.7777 - mae: 3.2415\n",
            "Epoch 130/150\n",
            "31/31 [==============================] - 1s 31ms/step - loss: 2.6940 - mae: 3.1508\n",
            "Epoch 131/150\n",
            "31/31 [==============================] - 1s 31ms/step - loss: 2.7810 - mae: 3.2436\n",
            "Epoch 132/150\n",
            "31/31 [==============================] - 1s 34ms/step - loss: 2.6884 - mae: 3.1494\n",
            "Epoch 133/150\n",
            "31/31 [==============================] - 1s 32ms/step - loss: 2.7791 - mae: 3.2393\n",
            "Epoch 134/150\n",
            "31/31 [==============================] - 1s 31ms/step - loss: 2.6897 - mae: 3.1482\n",
            "Epoch 135/150\n",
            "31/31 [==============================] - 1s 31ms/step - loss: 2.7314 - mae: 3.1909\n",
            "Epoch 136/150\n",
            "31/31 [==============================] - 1s 31ms/step - loss: 2.7401 - mae: 3.2002\n",
            "Epoch 137/150\n",
            "31/31 [==============================] - 1s 31ms/step - loss: 2.8130 - mae: 3.2755\n",
            "Epoch 138/150\n",
            "31/31 [==============================] - 1s 35ms/step - loss: 2.7685 - mae: 3.2295\n",
            "Epoch 139/150\n",
            "31/31 [==============================] - 1s 31ms/step - loss: 2.8535 - mae: 3.3171\n",
            "Epoch 140/150\n",
            "31/31 [==============================] - 1s 31ms/step - loss: 2.8369 - mae: 3.3004\n",
            "Epoch 141/150\n",
            "31/31 [==============================] - 1s 31ms/step - loss: 2.7999 - mae: 3.2633\n",
            "Epoch 142/150\n",
            "31/31 [==============================] - 1s 31ms/step - loss: 2.7664 - mae: 3.2280\n",
            "Epoch 143/150\n",
            "31/31 [==============================] - 1s 30ms/step - loss: 2.8927 - mae: 3.3533\n",
            "Epoch 144/150\n",
            "31/31 [==============================] - 1s 31ms/step - loss: 2.7765 - mae: 3.2373\n",
            "Epoch 145/150\n",
            "31/31 [==============================] - 1s 34ms/step - loss: 2.7906 - mae: 3.2529\n",
            "Epoch 146/150\n",
            "31/31 [==============================] - 1s 31ms/step - loss: 2.8052 - mae: 3.2668\n",
            "Epoch 147/150\n",
            "31/31 [==============================] - 1s 31ms/step - loss: 2.8511 - mae: 3.3164\n",
            "Epoch 148/150\n",
            "31/31 [==============================] - 1s 30ms/step - loss: 2.7539 - mae: 3.2136\n",
            "Epoch 149/150\n",
            "31/31 [==============================] - 1s 31ms/step - loss: 2.7533 - mae: 3.2132\n",
            "Epoch 150/150\n",
            "31/31 [==============================] - 1s 32ms/step - loss: 2.7475 - mae: 3.2073\n"
          ],
          "name": "stdout"
        }
      ]
    },
    {
      "cell_type": "code",
      "metadata": {
        "colab": {
          "base_uri": "https://localhost:8080/",
          "height": 281
        },
        "id": "ZQyHXTIvb4zv",
        "outputId": "c14cbeda-ef3a-4f25-d07b-9e56beffde9a"
      },
      "source": [
        "loss = history.history['loss']\n",
        "mae = history.history['mae']\n",
        "epochs= range(len(loss))\n",
        "plt.plot(epochs,loss,'r')\n",
        "plt.plot(epochs,mae,'b')\n",
        "plt.title('loss and mae')\n",
        "plt.show()"
      ],
      "execution_count": null,
      "outputs": [
        {
          "output_type": "display_data",
          "data": {
            "image/png": "[encoded data removed]",
            "text/plain": [
              "<Figure size 432x288 with 1 Axes>"
            ]
          },
          "metadata": {
            "tags": [],
            "needs_background": "light"
          }
        }
      ]
    },
    {
      "cell_type": "code",
      "metadata": {
        "id": "pk7o59hYd3r6"
      },
      "source": [
        "rnn_forecast = model_forecast(model,series[...,np.newaxis],window_size)\n",
        "rnn_forecast = rnn_forecast[split_time-window_size:-1,-1,0]"
      ],
      "execution_count": null,
      "outputs": []
    },
    {
      "cell_type": "code",
      "metadata": {
        "colab": {
          "base_uri": "https://localhost:8080/",
          "height": 388
        },
        "id": "g0iXJFHDetjT",
        "outputId": "2edd673d-1c49-40fa-d7b9-8a5f89bd688a"
      },
      "source": [
        "plt.figure(figsize=(10,6))\n",
        "plot_series(time_test,x_test)\n",
        "plot_series(time_test,rnn_forecast)\n",
        "\n",
        "plt.show()"
      ],
      "execution_count": null,
      "outputs": [
        {
          "output_type": "display_data",
          "data": {
            "image/png": "[encoded data removed]",
            "text/plain": [
              "<Figure size 720x432 with 1 Axes>"
            ]
          },
          "metadata": {
            "tags": [],
            "needs_background": "light"
          }
        }
      ]
    },
    {
      "cell_type": "code",
      "metadata": {
        "colab": {
          "base_uri": "https://localhost:8080/"
        },
        "id": "NWL33VcpfCpL",
        "outputId": "612f48d0-8b76-4aff-8910-43c73bdae0ea"
      },
      "source": [
        "tf.keras.metrics.mean_absolute_error(x_test,rnn_forecast)"
      ],
      "execution_count": null,
      "outputs": [
        {
          "output_type": "execute_result",
          "data": {
            "text/plain": [
              "<tf.Tensor: shape=(), dtype=float32, numpy=2.9103785>"
            ]
          },
          "metadata": {
            "tags": []
          },
          "execution_count": 38
        }
      ]
    },
    {
      "cell_type": "code",
      "metadata": {
        "colab": {
          "base_uri": "https://localhost:8080/",
          "height": 204
        },
        "id": "U6NvuKqJfL35",
        "outputId": "7be5aa79-1107-4507-a320-34228aefdb3e"
      },
      "source": [
        "df = pd.read_csv('/content/daily-total-female-births.csv')\n",
        "df.head()"
      ],
      "execution_count": null,
      "outputs": [
        {
          "output_type": "execute_result",
          "data": {
            "text/html": [
              "<div>\n",
              "<style scoped>\n",
              "    .dataframe tbody tr th:only-of-type {\n",
              "        vertical-align: middle;\n",
              "    }\n",
              "\n",
              "    .dataframe tbody tr th {\n",
              "        vertical-align: top;\n",
              "    }\n",
              "\n",
              "    .dataframe thead th {\n",
              "        text-align: right;\n",
              "    }\n",
              "</style>\n",
              "<table border=\"1\" class=\"dataframe\">\n",
              "  <thead>\n",
              "    <tr style=\"text-align: right;\">\n",
              "      <th></th>\n",
              "      <th>Date</th>\n",
              "      <th>Births</th>\n",
              "    </tr>\n",
              "  </thead>\n",
              "  <tbody>\n",
              "    <tr>\n",
              "      <th>0</th>\n",
              "      <td>1959-01-01</td>\n",
              "      <td>35</td>\n",
              "    </tr>\n",
              "    <tr>\n",
              "      <th>1</th>\n",
              "      <td>1959-01-02</td>\n",
              "      <td>32</td>\n",
              "    </tr>\n",
              "    <tr>\n",
              "      <th>2</th>\n",
              "      <td>1959-01-03</td>\n",
              "      <td>30</td>\n",
              "    </tr>\n",
              "    <tr>\n",
              "      <th>3</th>\n",
              "      <td>1959-01-04</td>\n",
              "      <td>31</td>\n",
              "    </tr>\n",
              "    <tr>\n",
              "      <th>4</th>\n",
              "      <td>1959-01-05</td>\n",
              "      <td>44</td>\n",
              "    </tr>\n",
              "  </tbody>\n",
              "</table>\n",
              "</div>"
            ],
            "text/plain": [
              "         Date  Births\n",
              "0  1959-01-01      35\n",
              "1  1959-01-02      32\n",
              "2  1959-01-03      30\n",
              "3  1959-01-04      31\n",
              "4  1959-01-05      44"
            ]
          },
          "metadata": {
            "tags": []
          },
          "execution_count": 43
        }
      ]
    },
    {
      "cell_type": "code",
      "metadata": {
        "id": "dytLObf8fcBe"
      },
      "source": [
        "timesteps=[]\n",
        "Births=[]\n",
        "with open('/content/daily-max-temperatures.csv') as csv_file:\n",
        "  reader = csv.reader(csv_file,delimiter=',')\n",
        "  next(reader)\n",
        "  x=0\n",
        "  for row in reader:\n",
        "    sunspots.append(float(row[1]))\n",
        "    timesteps.append(int(x))\n",
        "    x=x+1\n"
      ],
      "execution_count": null,
      "outputs": []
    },
    {
      "cell_type": "code",
      "metadata": {
        "colab": {
          "base_uri": "https://localhost:8080/",
          "height": 204
        },
        "id": "rjxxse9KjYmK",
        "outputId": "36c13c16-eb37-452c-ed9d-c2c458d0fcbd"
      },
      "source": [
        "import pandas as pd\n",
        "df = pd.read_csv('/content/monthly-robberies.csv')\n",
        "df.head()"
      ],
      "execution_count": null,
      "outputs": [
        {
          "output_type": "execute_result",
          "data": {
            "text/html": [
              "<div>\n",
              "<style scoped>\n",
              "    .dataframe tbody tr th:only-of-type {\n",
              "        vertical-align: middle;\n",
              "    }\n",
              "\n",
              "    .dataframe tbody tr th {\n",
              "        vertical-align: top;\n",
              "    }\n",
              "\n",
              "    .dataframe thead th {\n",
              "        text-align: right;\n",
              "    }\n",
              "</style>\n",
              "<table border=\"1\" class=\"dataframe\">\n",
              "  <thead>\n",
              "    <tr style=\"text-align: right;\">\n",
              "      <th></th>\n",
              "      <th>Month</th>\n",
              "      <th>Robberies</th>\n",
              "    </tr>\n",
              "  </thead>\n",
              "  <tbody>\n",
              "    <tr>\n",
              "      <th>0</th>\n",
              "      <td>1966-01</td>\n",
              "      <td>41</td>\n",
              "    </tr>\n",
              "    <tr>\n",
              "      <th>1</th>\n",
              "      <td>1966-02</td>\n",
              "      <td>39</td>\n",
              "    </tr>\n",
              "    <tr>\n",
              "      <th>2</th>\n",
              "      <td>1966-03</td>\n",
              "      <td>50</td>\n",
              "    </tr>\n",
              "    <tr>\n",
              "      <th>3</th>\n",
              "      <td>1966-04</td>\n",
              "      <td>40</td>\n",
              "    </tr>\n",
              "    <tr>\n",
              "      <th>4</th>\n",
              "      <td>1966-05</td>\n",
              "      <td>43</td>\n",
              "    </tr>\n",
              "  </tbody>\n",
              "</table>\n",
              "</div>"
            ],
            "text/plain": [
              "     Month  Robberies\n",
              "0  1966-01         41\n",
              "1  1966-02         39\n",
              "2  1966-03         50\n",
              "3  1966-04         40\n",
              "4  1966-05         43"
            ]
          },
          "metadata": {
            "tags": []
          },
          "execution_count": 3
        }
      ]
    },
    {
      "cell_type": "code",
      "metadata": {
        "id": "USf2eejMjfjg"
      },
      "source": [
        "import csv\n",
        "robberies= []\n",
        "timesteps= []\n",
        "with open('/content/monthly-robberies.csv') as csv_file:\n",
        "  reader = csv.reader(csv_file,delimiter=',')\n",
        "  next(reader)\n",
        "  x=0\n",
        "  for row in reader:\n",
        "    robberies.append(float(row[1]))\n",
        "    timesteps.append(int(x))\n",
        "    x=x+1\n"
      ],
      "execution_count": null,
      "outputs": []
    },
    {
      "cell_type": "code",
      "metadata": {
        "id": "ivEFrwaS33KE"
      },
      "source": [
        "import numpy as np\n",
        "import matplotlib.pyplot as plt\n",
        "time = np.array(timesteps)\n",
        "series= np.array(robberies)\n",
        "def plot_series(time,series,format='-',start=0,end=None):\n",
        "  plt.plot(time[start:end],series[start:end],format)\n",
        "  plt.xlabel('Time')\n",
        "  plt.ylabel('Values')\n",
        "  plt.grid('Off')"
      ],
      "execution_count": null,
      "outputs": []
    },
    {
      "cell_type": "code",
      "metadata": {
        "colab": {
          "base_uri": "https://localhost:8080/",
          "height": 279
        },
        "id": "Rc-CSqGF4map",
        "outputId": "2c802ee2-329b-47e5-bfdb-af949767a94a"
      },
      "source": [
        "plot_series(time,series)\n",
        "plt.show()"
      ],
      "execution_count": null,
      "outputs": [
        {
          "output_type": "display_data",
          "data": {
            "image/png": "[encoded data removed]",
            "text/plain": [
              "<Figure size 432x288 with 1 Axes>"
            ]
          },
          "metadata": {
            "tags": [],
            "needs_background": "light"
          }
        }
      ]
    },
    {
      "cell_type": "code",
      "metadata": {
        "colab": {
          "base_uri": "https://localhost:8080/"
        },
        "id": "WFPKUC9342Ub",
        "outputId": "8f12eb09-3917-4224-a62b-da407af8c5e6"
      },
      "source": [
        "df.shape"
      ],
      "execution_count": null,
      "outputs": [
        {
          "output_type": "execute_result",
          "data": {
            "text/plain": [
              "(118, 2)"
            ]
          },
          "metadata": {
            "tags": []
          },
          "execution_count": 15
        }
      ]
    },
    {
      "cell_type": "code",
      "metadata": {
        "id": "8DRvjHQ262tw"
      },
      "source": [
        "split_time= 100\n",
        "time_train = time[:split_time]\n",
        "time_test= time[split_time:]\n",
        "x_train = series[:split_time]\n",
        "x_test= series[split_time:]\n",
        "window_size=5\n",
        "batch_size=6\n",
        "shuffle_buffer_size=10"
      ],
      "execution_count": null,
      "outputs": []
    },
    {
      "cell_type": "code",
      "metadata": {
        "id": "rDO8t_u37FzM"
      },
      "source": [
        "def windowed_dataset(series,window_size,batch_size,shuffle_buffer):\n",
        "  series= tf.expand_dims(series,axis=-1)\n",
        "  dataset = tf.data.Dataset.from_tensor_slices(series)\n",
        "  dataset =dataset.window(window_size+1,shift=1,drop_remainder=True)\n",
        "  dataset = dataset.flat_map(lambda window: window.batch(window_size+1))\n",
        "  dataset= dataset.shuffle(shuffle_buffer).map(lambda window: (window[:-1],window[-1]) )\n",
        "  dataset = dataset.batch(batch_size).prefetch(-1)\n",
        "  return dataset"
      ],
      "execution_count": null,
      "outputs": []
    },
    {
      "cell_type": "code",
      "metadata": {
        "id": "u-FZOA_78C6s"
      },
      "source": [
        "def model_forecast(model,series,window_size):\n",
        "  dataset = tf.data.Dataset.from_tensor_slices(series)\n",
        "  dataset =dataset.window(window_size,shift=1,drop_remainder=True)\n",
        "  dataset = dataset.flat_map(lambda window: window.batch(window_size+1))\n",
        "  dataset = dataset.batch(32).prefetch(-1)\n",
        "  forecast = model.predict(dataset)\n",
        "  return forecast"
      ],
      "execution_count": null,
      "outputs": []
    },
    {
      "cell_type": "code",
      "metadata": {
        "id": "W8AoGvlu8416"
      },
      "source": [
        "import tensorflow as tf\n"
      ],
      "execution_count": null,
      "outputs": []
    },
    {
      "cell_type": "code",
      "metadata": {
        "id": "Mj1aql729ZL6"
      },
      "source": [
        "model = tf.keras.models.Sequential([\n",
        "                                    tf.keras.layers.Conv1D(filters=200,strides=1,kernel_size=5,activation = 'relu',padding='causal',input_shape=[None,1]),\n",
        "                                    tf.keras.layers.Bidirectional(tf.keras.layers.LSTM(20,return_sequences=True)),\n",
        "                                    tf.keras.layers.Bidirectional(tf.keras.layers.LSTM(20,return_sequences=True)),\n",
        "                                    tf.keras.layers.Dense(30,activation='relu'),\n",
        "                                    tf.keras.layers.Dense(10,activation='relu'),\n",
        "                                    tf.keras.layers.Dense(1),\n",
        "                                    tf.keras.layers.Lambda(lambda x: x*400)\n",
        "])"
      ],
      "execution_count": null,
      "outputs": []
    },
    {
      "cell_type": "code",
      "metadata": {
        "id": "rl5V06Ox-BqE"
      },
      "source": [
        "model.compile(loss= tf.keras.losses.Huber(),optimizer=tf.keras.optimizers.SGD(lr=1e-8,momentum=0.9),metrics=['mae'])\n",
        "dataset = windowed_dataset(x_train,window_size,batch_size,shuffle_buffer=shuffle_buffer_size)"
      ],
      "execution_count": null,
      "outputs": []
    },
    {
      "cell_type": "code",
      "metadata": {
        "colab": {
          "base_uri": "https://localhost:8080/"
        },
        "id": "Of6ztGCjAXIs",
        "outputId": "9adf2910-df3e-4468-d179-022760dae80e"
      },
      "source": [
        "lr_scheduler = tf.keras.callbacks.LearningRateScheduler(lambda epochs: 1e-8*10**(epochs/20))\n",
        "history=model.fit(dataset,epochs=100,callbacks=[lr_scheduler])"
      ],
      "execution_count": null,
      "outputs": [
        {
          "output_type": "stream",
          "text": [
            "Epoch 1/100\n",
            "16/16 [==============================] - 0s 8ms/step - loss: 142.9003 - mae: 143.3979\n",
            "Epoch 2/100\n",
            "16/16 [==============================] - 0s 7ms/step - loss: 141.9268 - mae: 142.4255\n",
            "Epoch 3/100\n",
            "16/16 [==============================] - 0s 9ms/step - loss: 140.5946 - mae: 141.0934\n",
            "Epoch 4/100\n",
            "16/16 [==============================] - 0s 8ms/step - loss: 139.0515 - mae: 139.5510\n",
            "Epoch 5/100\n",
            "16/16 [==============================] - 0s 8ms/step - loss: 137.3216 - mae: 137.8216\n",
            "Epoch 6/100\n",
            "16/16 [==============================] - 0s 8ms/step - loss: 135.4014 - mae: 135.9006\n",
            "Epoch 7/100\n",
            "16/16 [==============================] - 0s 8ms/step - loss: 133.3265 - mae: 133.8265\n",
            "Epoch 8/100\n",
            "16/16 [==============================] - 0s 8ms/step - loss: 131.1535 - mae: 131.6517\n",
            "Epoch 9/100\n",
            "16/16 [==============================] - 0s 7ms/step - loss: 128.9035 - mae: 129.4011\n",
            "Epoch 10/100\n",
            "16/16 [==============================] - 0s 9ms/step - loss: 126.5282 - mae: 127.0275\n",
            "Epoch 11/100\n",
            "16/16 [==============================] - 0s 9ms/step - loss: 124.0013 - mae: 124.4990\n",
            "Epoch 12/100\n",
            "16/16 [==============================] - 0s 8ms/step - loss: 121.2491 - mae: 121.7474\n",
            "Epoch 13/100\n",
            "16/16 [==============================] - 0s 8ms/step - loss: 118.2114 - mae: 118.7098\n",
            "Epoch 14/100\n",
            "16/16 [==============================] - 0s 9ms/step - loss: 114.8933 - mae: 115.3927\n",
            "Epoch 15/100\n",
            "16/16 [==============================] - 0s 8ms/step - loss: 111.2735 - mae: 111.7727\n",
            "Epoch 16/100\n",
            "16/16 [==============================] - 0s 9ms/step - loss: 107.5854 - mae: 108.0848\n",
            "Epoch 17/100\n",
            "16/16 [==============================] - 0s 8ms/step - loss: 103.3354 - mae: 103.8336\n",
            "Epoch 18/100\n",
            "16/16 [==============================] - 0s 8ms/step - loss: 98.7114 - mae: 99.2074\n",
            "Epoch 19/100\n",
            "16/16 [==============================] - 0s 8ms/step - loss: 95.4220 - mae: 95.9214\n",
            "Epoch 20/100\n",
            "16/16 [==============================] - 0s 9ms/step - loss: 92.8202 - mae: 93.3191\n",
            "Epoch 21/100\n",
            "16/16 [==============================] - 0s 7ms/step - loss: 90.4391 - mae: 90.9375\n",
            "Epoch 22/100\n",
            "16/16 [==============================] - 0s 9ms/step - loss: 88.1022 - mae: 88.6013\n",
            "Epoch 23/100\n",
            "16/16 [==============================] - 0s 9ms/step - loss: 85.7155 - mae: 86.2142\n",
            "Epoch 24/100\n",
            "16/16 [==============================] - 0s 10ms/step - loss: 83.3567 - mae: 83.8556\n",
            "Epoch 25/100\n",
            "16/16 [==============================] - 0s 8ms/step - loss: 81.3849 - mae: 81.8823\n",
            "Epoch 26/100\n",
            "16/16 [==============================] - 0s 9ms/step - loss: 80.0065 - mae: 80.5046\n",
            "Epoch 27/100\n",
            "16/16 [==============================] - 0s 9ms/step - loss: 78.7879 - mae: 79.2877\n",
            "Epoch 28/100\n",
            "16/16 [==============================] - 0s 9ms/step - loss: 78.1382 - mae: 78.6346\n",
            "Epoch 29/100\n",
            "16/16 [==============================] - 0s 8ms/step - loss: 77.3383 - mae: 77.8352\n",
            "Epoch 30/100\n",
            "16/16 [==============================] - 0s 8ms/step - loss: 76.5063 - mae: 77.0039\n",
            "Epoch 31/100\n",
            "16/16 [==============================] - 0s 8ms/step - loss: 75.6741 - mae: 76.1729\n",
            "Epoch 32/100\n",
            "16/16 [==============================] - 0s 8ms/step - loss: 74.7300 - mae: 75.2281\n",
            "Epoch 33/100\n",
            "16/16 [==============================] - 0s 8ms/step - loss: 73.8001 - mae: 74.2979\n",
            "Epoch 34/100\n",
            "16/16 [==============================] - 0s 8ms/step - loss: 72.8353 - mae: 73.3345\n",
            "Epoch 35/100\n",
            "16/16 [==============================] - 0s 8ms/step - loss: 72.0702 - mae: 72.5693\n",
            "Epoch 36/100\n",
            "16/16 [==============================] - 0s 9ms/step - loss: 70.0083 - mae: 70.5060\n",
            "Epoch 37/100\n",
            "16/16 [==============================] - 0s 8ms/step - loss: 69.8706 - mae: 70.3686\n",
            "Epoch 38/100\n",
            "16/16 [==============================] - 0s 8ms/step - loss: 65.8752 - mae: 66.3737\n",
            "Epoch 39/100\n",
            "16/16 [==============================] - 0s 9ms/step - loss: 70.7205 - mae: 71.2186\n",
            "Epoch 40/100\n",
            "16/16 [==============================] - 0s 9ms/step - loss: 67.1121 - mae: 67.6086\n",
            "Epoch 41/100\n",
            "16/16 [==============================] - 0s 8ms/step - loss: 76.5424 - mae: 77.0412\n",
            "Epoch 42/100\n",
            "16/16 [==============================] - 0s 8ms/step - loss: 80.4589 - mae: 80.9575\n",
            "Epoch 43/100\n",
            "16/16 [==============================] - 0s 8ms/step - loss: 71.7630 - mae: 72.2588\n",
            "Epoch 44/100\n",
            "16/16 [==============================] - 0s 9ms/step - loss: 67.8861 - mae: 68.3851\n",
            "Epoch 45/100\n",
            "16/16 [==============================] - 0s 8ms/step - loss: 75.9791 - mae: 76.4791\n",
            "Epoch 46/100\n",
            "16/16 [==============================] - 0s 8ms/step - loss: 71.1361 - mae: 71.6344\n",
            "Epoch 47/100\n",
            "16/16 [==============================] - 0s 8ms/step - loss: 80.1720 - mae: 80.6708\n",
            "Epoch 48/100\n",
            "16/16 [==============================] - 0s 8ms/step - loss: 71.5941 - mae: 72.0898\n",
            "Epoch 49/100\n",
            "16/16 [==============================] - 0s 8ms/step - loss: 100.7835 - mae: 101.2828\n",
            "Epoch 50/100\n",
            "16/16 [==============================] - 0s 9ms/step - loss: 85.8976 - mae: 86.3960\n",
            "Epoch 51/100\n",
            "16/16 [==============================] - 0s 8ms/step - loss: 89.1582 - mae: 89.6574\n",
            "Epoch 52/100\n",
            "16/16 [==============================] - 0s 8ms/step - loss: 87.5983 - mae: 88.0981\n",
            "Epoch 53/100\n",
            "16/16 [==============================] - 0s 8ms/step - loss: 89.0598 - mae: 89.5583\n",
            "Epoch 54/100\n",
            "16/16 [==============================] - 0s 8ms/step - loss: 92.7942 - mae: 93.2933\n",
            "Epoch 55/100\n",
            "16/16 [==============================] - 0s 8ms/step - loss: 95.3814 - mae: 95.8807\n",
            "Epoch 56/100\n",
            "16/16 [==============================] - 0s 8ms/step - loss: 94.0124 - mae: 94.5124\n",
            "Epoch 57/100\n",
            "16/16 [==============================] - 0s 8ms/step - loss: 97.3167 - mae: 97.8137\n",
            "Epoch 58/100\n",
            "16/16 [==============================] - 0s 9ms/step - loss: 95.1427 - mae: 95.6409\n",
            "Epoch 59/100\n",
            "16/16 [==============================] - 0s 9ms/step - loss: 103.0919 - mae: 103.5919\n",
            "Epoch 60/100\n",
            "16/16 [==============================] - 0s 11ms/step - loss: 82.0366 - mae: 82.5349\n",
            "Epoch 61/100\n",
            "16/16 [==============================] - 0s 8ms/step - loss: 90.8489 - mae: 91.3489\n",
            "Epoch 62/100\n",
            "16/16 [==============================] - 0s 8ms/step - loss: 126.2115 - mae: 126.7112\n",
            "Epoch 63/100\n",
            "16/16 [==============================] - 0s 8ms/step - loss: 95.9352 - mae: 96.4352\n",
            "Epoch 64/100\n",
            "16/16 [==============================] - 0s 8ms/step - loss: 99.3268 - mae: 99.8268\n",
            "Epoch 65/100\n",
            "16/16 [==============================] - 0s 8ms/step - loss: 97.5126 - mae: 98.0107\n",
            "Epoch 66/100\n",
            "16/16 [==============================] - 0s 13ms/step - loss: 98.9187 - mae: 99.4170\n",
            "Epoch 67/100\n",
            "16/16 [==============================] - 0s 8ms/step - loss: 100.3340 - mae: 100.8328\n",
            "Epoch 68/100\n",
            "16/16 [==============================] - 0s 8ms/step - loss: 101.8665 - mae: 102.3665\n",
            "Epoch 69/100\n",
            "16/16 [==============================] - 0s 8ms/step - loss: 105.4186 - mae: 105.9178\n",
            "Epoch 70/100\n",
            "16/16 [==============================] - 0s 8ms/step - loss: 108.7988 - mae: 109.2985\n",
            "Epoch 71/100\n",
            "16/16 [==============================] - 0s 8ms/step - loss: 114.3870 - mae: 114.8870\n",
            "Epoch 72/100\n",
            "16/16 [==============================] - 0s 8ms/step - loss: 88.7105 - mae: 89.2091\n",
            "Epoch 73/100\n",
            "16/16 [==============================] - 0s 8ms/step - loss: 182.8338 - mae: 183.3338\n",
            "Epoch 74/100\n",
            "16/16 [==============================] - 0s 8ms/step - loss: 117.9478 - mae: 118.4478\n",
            "Epoch 75/100\n",
            "16/16 [==============================] - 0s 8ms/step - loss: 152.0704 - mae: 152.5699\n",
            "Epoch 76/100\n",
            "16/16 [==============================] - 0s 8ms/step - loss: 124.9583 - mae: 125.4558\n",
            "Epoch 77/100\n",
            "16/16 [==============================] - 0s 9ms/step - loss: 136.0731 - mae: 136.5731\n",
            "Epoch 78/100\n",
            "16/16 [==============================] - 0s 8ms/step - loss: 145.6011 - mae: 146.1011\n",
            "Epoch 79/100\n",
            "16/16 [==============================] - 0s 9ms/step - loss: 143.4458 - mae: 143.9458\n",
            "Epoch 80/100\n",
            "16/16 [==============================] - 0s 8ms/step - loss: 146.2494 - mae: 146.7472\n",
            "Epoch 81/100\n",
            "16/16 [==============================] - 0s 8ms/step - loss: 172.1631 - mae: 172.6631\n",
            "Epoch 82/100\n",
            "16/16 [==============================] - 0s 8ms/step - loss: 149.0966 - mae: 149.5966\n",
            "Epoch 83/100\n",
            "16/16 [==============================] - 0s 8ms/step - loss: 189.0737 - mae: 189.5737\n",
            "Epoch 84/100\n",
            "16/16 [==============================] - 0s 8ms/step - loss: 186.0493 - mae: 186.5493\n",
            "Epoch 85/100\n",
            "16/16 [==============================] - 0s 9ms/step - loss: 208.3371 - mae: 208.8371\n",
            "Epoch 86/100\n",
            "16/16 [==============================] - 0s 8ms/step - loss: 224.6962 - mae: 225.1962\n",
            "Epoch 87/100\n",
            "16/16 [==============================] - 0s 8ms/step - loss: 244.0303 - mae: 244.5303\n",
            "Epoch 88/100\n",
            "16/16 [==============================] - 0s 8ms/step - loss: 227.7277 - mae: 228.2277\n",
            "Epoch 89/100\n",
            "16/16 [==============================] - 0s 8ms/step - loss: 273.2909 - mae: 273.7909\n",
            "Epoch 90/100\n",
            "16/16 [==============================] - 0s 9ms/step - loss: 294.8705 - mae: 295.3705\n",
            "Epoch 91/100\n",
            "16/16 [==============================] - 0s 8ms/step - loss: 274.7171 - mae: 275.2171\n",
            "Epoch 92/100\n",
            "16/16 [==============================] - 0s 8ms/step - loss: 200.5109 - mae: 201.0109\n",
            "Epoch 93/100\n",
            "16/16 [==============================] - 0s 8ms/step - loss: 107.9453 - mae: 108.4453\n",
            "Epoch 94/100\n",
            "16/16 [==============================] - 0s 8ms/step - loss: 130.1749 - mae: 130.6749\n",
            "Epoch 95/100\n",
            "16/16 [==============================] - 0s 9ms/step - loss: 143.2260 - mae: 143.7232\n",
            "Epoch 96/100\n",
            "16/16 [==============================] - 0s 8ms/step - loss: 225.9639 - mae: 226.4639\n",
            "Epoch 97/100\n",
            "16/16 [==============================] - 0s 8ms/step - loss: 142.9297 - mae: 143.4297\n",
            "Epoch 98/100\n",
            "16/16 [==============================] - 0s 8ms/step - loss: 314.0732 - mae: 314.5732\n",
            "Epoch 99/100\n",
            "16/16 [==============================] - 0s 8ms/step - loss: 94.5497 - mae: 95.0497\n",
            "Epoch 100/100\n",
            "16/16 [==============================] - 0s 13ms/step - loss: 185.4059 - mae: 185.9059\n"
          ],
          "name": "stdout"
        }
      ]
    },
    {
      "cell_type": "code",
      "metadata": {
        "colab": {
          "base_uri": "https://localhost:8080/",
          "height": 286
        },
        "id": "ZfXRvrr3B-ZT",
        "outputId": "4d9f8c00-99b9-4aa7-8f5e-b9fda9e6fdfb"
      },
      "source": [
        "plt.semilogx(history.history['lr'],history.history['loss'])"
      ],
      "execution_count": null,
      "outputs": [
        {
          "output_type": "execute_result",
          "data": {
            "text/plain": [
              "[<matplotlib.lines.Line2D at 0x7f18e3f0fa58>]"
            ]
          },
          "metadata": {
            "tags": []
          },
          "execution_count": 44
        },
        {
          "output_type": "display_data",
          "data": {
            "image/png": "[encoded data removed]",
            "text/plain": [
              "<Figure size 432x288 with 1 Axes>"
            ]
          },
          "metadata": {
            "tags": [],
            "needs_background": "light"
          }
        }
      ]
    },
    {
      "cell_type": "code",
      "metadata": {
        "id": "a_eVIzNkDIP2"
      },
      "source": [
        "tf.keras.backend.clear_session()\n",
        "tf.random.set_seed(51)\n",
        "np.random.seed(51)\n",
        "model = tf.keras.models.Sequential([\n",
        "                                    tf.keras.layers.Conv1D(filters=500,strides=1,kernel_size=5,activation = 'relu',padding='causal',input_shape=[None,1]),\n",
        "                                    tf.keras.layers.Bidirectional(tf.keras.layers.LSTM(20,return_sequences=True)),\n",
        "                                    tf.keras.layers.Bidirectional(tf.keras.layers.LSTM(20,return_sequences=True)),\n",
        "                                    tf.keras.layers.Dense(30,activation='relu'),\n",
        "                                    tf.keras.layers.Dense(10,activation='relu'),\n",
        "                                    tf.keras.layers.Dense(1),\n",
        "                                    tf.keras.layers.Lambda(lambda x: x*400)\n",
        "])"
      ],
      "execution_count": null,
      "outputs": []
    },
    {
      "cell_type": "code",
      "metadata": {
        "id": "CBlJOOPmDhgH"
      },
      "source": [
        "model.compile(loss= tf.keras.losses.Huber(),optimizer=tf.keras.optimizers.SGD(lr=9e-8,momentum=0.9),metrics=['mae'])\n",
        "dataset = windowed_dataset(x_train,window_size,batch_size,shuffle_buffer=shuffle_buffer_size)"
      ],
      "execution_count": null,
      "outputs": []
    },
    {
      "cell_type": "code",
      "metadata": {
        "colab": {
          "base_uri": "https://localhost:8080/"
        },
        "id": "3ElMii_xDmC8",
        "outputId": "e1fb501b-c300-4fd8-dadc-e5a9b2b2d4c4"
      },
      "source": [
        "\n",
        "history=model.fit(dataset,epochs=150,callbacks=[lr_scheduler])"
      ],
      "execution_count": null,
      "outputs": [
        {
          "output_type": "stream",
          "text": [
            "Epoch 1/150\n",
            "16/16 [==============================] - 0s 9ms/step - loss: 218.5782 - mae: 219.0782\n",
            "Epoch 2/150\n",
            "16/16 [==============================] - 0s 9ms/step - loss: 214.0362 - mae: 214.5362\n",
            "Epoch 3/150\n",
            "16/16 [==============================] - 0s 9ms/step - loss: 207.1348 - mae: 207.6348\n",
            "Epoch 4/150\n",
            "16/16 [==============================] - 0s 9ms/step - loss: 197.9325 - mae: 198.4325\n",
            "Epoch 5/150\n",
            "16/16 [==============================] - 0s 9ms/step - loss: 188.8376 - mae: 189.3376\n",
            "Epoch 6/150\n",
            "16/16 [==============================] - 0s 9ms/step - loss: 181.2210 - mae: 181.7210\n",
            "Epoch 7/150\n",
            "16/16 [==============================] - 0s 8ms/step - loss: 174.5156 - mae: 175.0156\n",
            "Epoch 8/150\n",
            "16/16 [==============================] - 0s 9ms/step - loss: 168.0241 - mae: 168.5241\n",
            "Epoch 9/150\n",
            "16/16 [==============================] - 0s 10ms/step - loss: 161.5702 - mae: 162.0702\n",
            "Epoch 10/150\n",
            "16/16 [==============================] - 0s 9ms/step - loss: 155.0284 - mae: 155.5284\n",
            "Epoch 11/150\n",
            "16/16 [==============================] - 0s 9ms/step - loss: 147.3350 - mae: 147.8350\n",
            "Epoch 12/150\n",
            "16/16 [==============================] - 0s 9ms/step - loss: 129.7967 - mae: 130.2959\n",
            "Epoch 13/150\n",
            "16/16 [==============================] - 0s 10ms/step - loss: 118.8657 - mae: 119.3654\n",
            "Epoch 14/150\n",
            "16/16 [==============================] - 0s 9ms/step - loss: 111.9461 - mae: 112.4450\n",
            "Epoch 15/150\n",
            "16/16 [==============================] - 0s 10ms/step - loss: 104.9887 - mae: 105.4874\n",
            "Epoch 16/150\n",
            "16/16 [==============================] - 0s 9ms/step - loss: 100.1529 - mae: 100.6492\n",
            "Epoch 17/150\n",
            "16/16 [==============================] - 0s 9ms/step - loss: 96.2519 - mae: 96.7510\n",
            "Epoch 18/150\n",
            "16/16 [==============================] - 0s 10ms/step - loss: 92.4344 - mae: 92.9323\n",
            "Epoch 19/150\n",
            "16/16 [==============================] - 0s 9ms/step - loss: 88.9217 - mae: 89.4204\n",
            "Epoch 20/150\n",
            "16/16 [==============================] - 0s 9ms/step - loss: 85.8896 - mae: 86.3881\n",
            "Epoch 21/150\n",
            "16/16 [==============================] - 0s 9ms/step - loss: 83.1320 - mae: 83.6308\n",
            "Epoch 22/150\n",
            "16/16 [==============================] - 0s 9ms/step - loss: 79.9591 - mae: 80.4557\n",
            "Epoch 23/150\n",
            "16/16 [==============================] - 0s 10ms/step - loss: 76.3128 - mae: 76.8104\n",
            "Epoch 24/150\n",
            "16/16 [==============================] - 0s 9ms/step - loss: 72.0571 - mae: 72.5540\n",
            "Epoch 25/150\n",
            "16/16 [==============================] - 0s 9ms/step - loss: 67.3108 - mae: 67.8101\n",
            "Epoch 26/150\n",
            "16/16 [==============================] - 0s 9ms/step - loss: 68.3697 - mae: 68.8688\n",
            "Epoch 27/150\n",
            "16/16 [==============================] - 0s 10ms/step - loss: 65.9224 - mae: 66.4204\n",
            "Epoch 28/150\n",
            "16/16 [==============================] - 0s 11ms/step - loss: 61.7026 - mae: 62.1995\n",
            "Epoch 29/150\n",
            "16/16 [==============================] - 0s 10ms/step - loss: 60.7027 - mae: 61.2000\n",
            "Epoch 30/150\n",
            "16/16 [==============================] - 0s 9ms/step - loss: 57.5615 - mae: 58.0588\n",
            "Epoch 31/150\n",
            "16/16 [==============================] - 0s 10ms/step - loss: 53.1705 - mae: 53.6671\n",
            "Epoch 32/150\n",
            "16/16 [==============================] - 0s 9ms/step - loss: 54.0744 - mae: 54.5719\n",
            "Epoch 33/150\n",
            "16/16 [==============================] - 0s 9ms/step - loss: 53.7887 - mae: 54.2874\n",
            "Epoch 34/150\n",
            "16/16 [==============================] - 0s 11ms/step - loss: 54.3030 - mae: 54.8007\n",
            "Epoch 35/150\n",
            "16/16 [==============================] - 0s 11ms/step - loss: 46.9131 - mae: 47.4105\n",
            "Epoch 36/150\n",
            "16/16 [==============================] - 0s 10ms/step - loss: 48.3416 - mae: 48.8412\n",
            "Epoch 37/150\n",
            "16/16 [==============================] - 0s 9ms/step - loss: 57.6437 - mae: 58.1409\n",
            "Epoch 38/150\n",
            "16/16 [==============================] - 0s 9ms/step - loss: 49.3568 - mae: 49.8559\n",
            "Epoch 39/150\n",
            "16/16 [==============================] - 0s 9ms/step - loss: 65.5170 - mae: 66.0169\n",
            "Epoch 40/150\n",
            "16/16 [==============================] - 0s 9ms/step - loss: 53.2409 - mae: 53.7393\n",
            "Epoch 41/150\n",
            "16/16 [==============================] - 0s 9ms/step - loss: 57.4573 - mae: 57.9563\n",
            "Epoch 42/150\n",
            "16/16 [==============================] - 0s 10ms/step - loss: 112.2156 - mae: 112.7156\n",
            "Epoch 43/150\n",
            "16/16 [==============================] - 0s 9ms/step - loss: 54.3292 - mae: 54.8269\n",
            "Epoch 44/150\n",
            "16/16 [==============================] - 0s 9ms/step - loss: 75.9988 - mae: 76.4969\n",
            "Epoch 45/150\n",
            "16/16 [==============================] - 0s 9ms/step - loss: 90.3777 - mae: 90.8772\n",
            "Epoch 46/150\n",
            "16/16 [==============================] - 0s 9ms/step - loss: 54.7108 - mae: 55.2105\n",
            "Epoch 47/150\n",
            "16/16 [==============================] - 0s 9ms/step - loss: 79.0501 - mae: 79.5474\n",
            "Epoch 48/150\n",
            "16/16 [==============================] - 0s 9ms/step - loss: 113.8085 - mae: 114.3076\n",
            "Epoch 49/150\n",
            "16/16 [==============================] - 0s 10ms/step - loss: 61.4236 - mae: 61.9214\n",
            "Epoch 50/150\n",
            "16/16 [==============================] - 0s 9ms/step - loss: 103.9760 - mae: 104.4755\n",
            "Epoch 51/150\n",
            "16/16 [==============================] - 0s 10ms/step - loss: 80.9979 - mae: 81.4967\n",
            "Epoch 52/150\n",
            "16/16 [==============================] - 0s 10ms/step - loss: 109.9682 - mae: 110.4676\n",
            "Epoch 53/150\n",
            "16/16 [==============================] - 0s 9ms/step - loss: 89.7809 - mae: 90.2803\n",
            "Epoch 54/150\n",
            "16/16 [==============================] - 0s 11ms/step - loss: 60.2849 - mae: 60.7836\n",
            "Epoch 55/150\n",
            "16/16 [==============================] - 0s 9ms/step - loss: 130.7133 - mae: 131.2119\n",
            "Epoch 56/150\n",
            "16/16 [==============================] - 0s 10ms/step - loss: 96.3147 - mae: 96.8138\n",
            "Epoch 57/150\n",
            "16/16 [==============================] - 0s 9ms/step - loss: 111.2075 - mae: 111.7073\n",
            "Epoch 58/150\n",
            "16/16 [==============================] - 0s 9ms/step - loss: 70.5103 - mae: 71.0098\n",
            "Epoch 59/150\n",
            "16/16 [==============================] - 0s 10ms/step - loss: 129.6325 - mae: 130.1317\n",
            "Epoch 60/150\n",
            "16/16 [==============================] - 0s 9ms/step - loss: 95.2059 - mae: 95.7037\n",
            "Epoch 61/150\n",
            "16/16 [==============================] - 0s 9ms/step - loss: 92.5734 - mae: 93.0719\n",
            "Epoch 62/150\n",
            "16/16 [==============================] - 0s 10ms/step - loss: 98.9837 - mae: 99.4821\n",
            "Epoch 63/150\n",
            "16/16 [==============================] - 0s 9ms/step - loss: 95.3271 - mae: 95.8267\n",
            "Epoch 64/150\n",
            "16/16 [==============================] - 0s 9ms/step - loss: 97.0534 - mae: 97.5530\n",
            "Epoch 65/150\n",
            "16/16 [==============================] - 0s 9ms/step - loss: 103.2932 - mae: 103.7930\n",
            "Epoch 66/150\n",
            "16/16 [==============================] - 0s 10ms/step - loss: 101.4845 - mae: 101.9828\n",
            "Epoch 67/150\n",
            "16/16 [==============================] - 0s 10ms/step - loss: 100.3162 - mae: 100.8158\n",
            "Epoch 68/150\n",
            "16/16 [==============================] - 0s 9ms/step - loss: 107.0673 - mae: 107.5673\n",
            "Epoch 69/150\n",
            "16/16 [==============================] - 0s 9ms/step - loss: 106.2390 - mae: 106.7387\n",
            "Epoch 70/150\n",
            "16/16 [==============================] - 0s 10ms/step - loss: 111.0645 - mae: 111.5644\n",
            "Epoch 71/150\n",
            "16/16 [==============================] - 0s 9ms/step - loss: 114.1279 - mae: 114.6279\n",
            "Epoch 72/150\n",
            "16/16 [==============================] - 0s 9ms/step - loss: 112.0905 - mae: 112.5885\n",
            "Epoch 73/150\n",
            "16/16 [==============================] - 0s 12ms/step - loss: 118.4648 - mae: 118.9648\n",
            "Epoch 74/150\n",
            "16/16 [==============================] - 0s 11ms/step - loss: 113.2573 - mae: 113.7573\n",
            "Epoch 75/150\n",
            "16/16 [==============================] - 0s 9ms/step - loss: 127.4724 - mae: 127.9724\n",
            "Epoch 76/150\n",
            "16/16 [==============================] - 0s 9ms/step - loss: 131.0074 - mae: 131.5074\n",
            "Epoch 77/150\n",
            "16/16 [==============================] - 0s 9ms/step - loss: 132.6327 - mae: 133.1327\n",
            "Epoch 78/150\n",
            "16/16 [==============================] - 0s 9ms/step - loss: 125.5275 - mae: 126.0275\n",
            "Epoch 79/150\n",
            "16/16 [==============================] - 0s 11ms/step - loss: 184.6635 - mae: 185.1635\n",
            "Epoch 80/150\n",
            "16/16 [==============================] - 0s 9ms/step - loss: 79.0427 - mae: 79.5421\n",
            "Epoch 81/150\n",
            "16/16 [==============================] - 0s 9ms/step - loss: 229.1399 - mae: 229.6399\n",
            "Epoch 82/150\n",
            "16/16 [==============================] - 0s 9ms/step - loss: 70.3473 - mae: 70.8431\n",
            "Epoch 83/150\n",
            "16/16 [==============================] - 0s 12ms/step - loss: 188.3856 - mae: 188.8856\n",
            "Epoch 84/150\n",
            "16/16 [==============================] - 0s 12ms/step - loss: 251.2418 - mae: 251.7418\n",
            "Epoch 85/150\n",
            "16/16 [==============================] - 0s 9ms/step - loss: 122.7407 - mae: 123.2367\n",
            "Epoch 86/150\n",
            "16/16 [==============================] - 0s 9ms/step - loss: 221.7394 - mae: 222.2349\n",
            "Epoch 87/150\n",
            "16/16 [==============================] - 0s 9ms/step - loss: 251.2312 - mae: 251.7302\n",
            "Epoch 88/150\n",
            "16/16 [==============================] - 0s 9ms/step - loss: 234.2125 - mae: 234.7116\n",
            "Epoch 89/150\n",
            "16/16 [==============================] - 0s 10ms/step - loss: 229.2470 - mae: 229.7470\n",
            "Epoch 90/150\n",
            "16/16 [==============================] - 0s 9ms/step - loss: 215.7703 - mae: 216.2703\n",
            "Epoch 91/150\n",
            "16/16 [==============================] - 0s 9ms/step - loss: 207.5125 - mae: 208.0125\n",
            "Epoch 92/150\n",
            "16/16 [==============================] - 0s 9ms/step - loss: 117.6107 - mae: 118.1107\n",
            "Epoch 93/150\n",
            "16/16 [==============================] - 0s 9ms/step - loss: 108.1136 - mae: 108.6102\n",
            "Epoch 94/150\n",
            "16/16 [==============================] - 0s 10ms/step - loss: 215.9682 - mae: 216.4676\n",
            "Epoch 95/150\n",
            "16/16 [==============================] - 0s 8ms/step - loss: 120.6020 - mae: 121.0969\n",
            "Epoch 96/150\n",
            "16/16 [==============================] - 0s 9ms/step - loss: 175.2834 - mae: 175.7834\n",
            "Epoch 97/150\n",
            "16/16 [==============================] - 0s 9ms/step - loss: 175.7110 - mae: 176.2110\n",
            "Epoch 98/150\n",
            "16/16 [==============================] - 0s 10ms/step - loss: 187.2963 - mae: 187.7963\n",
            "Epoch 99/150\n",
            "16/16 [==============================] - 0s 11ms/step - loss: 184.8594 - mae: 185.3594\n",
            "Epoch 100/150\n",
            "16/16 [==============================] - 0s 10ms/step - loss: 154.9776 - mae: 155.4776\n",
            "Epoch 101/150\n",
            "16/16 [==============================] - 0s 9ms/step - loss: 135.3459 - mae: 135.8459\n",
            "Epoch 102/150\n",
            "16/16 [==============================] - 0s 10ms/step - loss: 278.2001 - mae: 278.7001\n",
            "Epoch 103/150\n",
            "16/16 [==============================] - 0s 9ms/step - loss: 344.3489 - mae: 344.8489\n",
            "Epoch 104/150\n",
            "16/16 [==============================] - 0s 10ms/step - loss: 282.1987 - mae: 282.6987\n",
            "Epoch 105/150\n",
            "16/16 [==============================] - 0s 9ms/step - loss: 377.5178 - mae: 378.0178\n",
            "Epoch 106/150\n",
            "16/16 [==============================] - 0s 9ms/step - loss: 435.0613 - mae: 435.5613\n",
            "Epoch 107/150\n",
            "16/16 [==============================] - 0s 9ms/step - loss: 326.7434 - mae: 327.2434\n",
            "Epoch 108/150\n",
            "16/16 [==============================] - 0s 9ms/step - loss: 357.1715 - mae: 357.6715\n",
            "Epoch 109/150\n",
            "16/16 [==============================] - 0s 10ms/step - loss: 347.4410 - mae: 347.9410\n",
            "Epoch 110/150\n",
            "16/16 [==============================] - 0s 9ms/step - loss: 698.5596 - mae: 699.0596\n",
            "Epoch 111/150\n",
            "16/16 [==============================] - 0s 10ms/step - loss: 779.4900 - mae: 779.9901\n",
            "Epoch 112/150\n",
            "16/16 [==============================] - 0s 9ms/step - loss: 879.9443 - mae: 880.4443\n",
            "Epoch 113/150\n",
            "16/16 [==============================] - 0s 9ms/step - loss: 984.9171 - mae: 985.4171\n",
            "Epoch 114/150\n",
            "16/16 [==============================] - 0s 10ms/step - loss: 1107.8958 - mae: 1108.3958\n",
            "Epoch 115/150\n",
            "16/16 [==============================] - 0s 9ms/step - loss: 1242.3965 - mae: 1242.8965\n",
            "Epoch 116/150\n",
            "16/16 [==============================] - 0s 10ms/step - loss: 1397.0664 - mae: 1397.5664\n",
            "Epoch 117/150\n",
            "16/16 [==============================] - 0s 9ms/step - loss: 1567.0951 - mae: 1567.5951\n",
            "Epoch 118/150\n",
            "16/16 [==============================] - 0s 9ms/step - loss: 1753.4711 - mae: 1753.9711\n",
            "Epoch 119/150\n",
            "16/16 [==============================] - 0s 9ms/step - loss: 1972.4049 - mae: 1972.9049\n",
            "Epoch 120/150\n",
            "16/16 [==============================] - 0s 9ms/step - loss: 2207.7214 - mae: 2208.2214\n",
            "Epoch 121/150\n",
            "16/16 [==============================] - 0s 10ms/step - loss: 2481.0642 - mae: 2481.5642\n",
            "Epoch 122/150\n",
            "16/16 [==============================] - 0s 12ms/step - loss: 2781.0969 - mae: 2781.5969\n",
            "Epoch 123/150\n",
            "16/16 [==============================] - 0s 9ms/step - loss: 3118.6233 - mae: 3119.1233\n",
            "Epoch 124/150\n",
            "16/16 [==============================] - 0s 9ms/step - loss: 3504.4731 - mae: 3504.9731\n",
            "Epoch 125/150\n",
            "16/16 [==============================] - 0s 10ms/step - loss: 3927.1606 - mae: 3927.6606\n",
            "Epoch 126/150\n",
            "16/16 [==============================] - 0s 9ms/step - loss: 4398.5747 - mae: 4399.0747\n",
            "Epoch 127/150\n",
            "16/16 [==============================] - 0s 12ms/step - loss: 4935.1436 - mae: 4935.6436\n",
            "Epoch 128/150\n",
            "16/16 [==============================] - 0s 9ms/step - loss: 5552.2422 - mae: 5552.7422\n",
            "Epoch 129/150\n",
            "16/16 [==============================] - 0s 9ms/step - loss: 6219.0376 - mae: 6219.5376\n",
            "Epoch 130/150\n",
            "16/16 [==============================] - 0s 9ms/step - loss: 6980.4111 - mae: 6980.9111\n",
            "Epoch 131/150\n",
            "16/16 [==============================] - 0s 10ms/step - loss: 7823.9355 - mae: 7824.4355\n",
            "Epoch 132/150\n",
            "16/16 [==============================] - 0s 9ms/step - loss: 8774.3076 - mae: 8774.8076\n",
            "Epoch 133/150\n",
            "16/16 [==============================] - 0s 9ms/step - loss: 9852.3145 - mae: 9852.8145\n",
            "Epoch 134/150\n",
            "16/16 [==============================] - 0s 11ms/step - loss: 11052.6279 - mae: 11053.1279\n",
            "Epoch 135/150\n",
            "16/16 [==============================] - 0s 9ms/step - loss: 12402.5752 - mae: 12403.0752\n",
            "Epoch 136/150\n",
            "16/16 [==============================] - 0s 9ms/step - loss: 13915.0371 - mae: 13915.5371\n",
            "Epoch 137/150\n",
            "16/16 [==============================] - 0s 9ms/step - loss: 15615.0459 - mae: 15615.5459\n",
            "Epoch 138/150\n",
            "16/16 [==============================] - 0s 9ms/step - loss: 17518.4883 - mae: 17518.9883\n",
            "Epoch 139/150\n",
            "16/16 [==============================] - 0s 10ms/step - loss: 19647.5996 - mae: 19648.0996\n",
            "Epoch 140/150\n",
            "16/16 [==============================] - 0s 9ms/step - loss: 22047.8848 - mae: 22048.3848\n",
            "Epoch 141/150\n",
            "16/16 [==============================] - 0s 9ms/step - loss: 24739.0996 - mae: 24739.5996\n",
            "Epoch 142/150\n",
            "16/16 [==============================] - 0s 9ms/step - loss: 27753.8867 - mae: 27754.3867\n",
            "Epoch 143/150\n",
            "16/16 [==============================] - 0s 10ms/step - loss: 31136.8105 - mae: 31137.3105\n",
            "Epoch 144/150\n",
            "16/16 [==============================] - 0s 10ms/step - loss: 34937.6484 - mae: 34938.1484\n",
            "Epoch 145/150\n",
            "16/16 [==============================] - 0s 10ms/step - loss: 39205.2617 - mae: 39205.7617\n",
            "Epoch 146/150\n",
            "16/16 [==============================] - 0s 10ms/step - loss: 43983.8203 - mae: 43984.3203\n",
            "Epoch 147/150\n",
            "16/16 [==============================] - 0s 11ms/step - loss: 49349.5703 - mae: 49350.0742\n",
            "Epoch 148/150\n",
            "16/16 [==============================] - 0s 10ms/step - loss: 55370.5312 - mae: 55371.0312\n",
            "Epoch 149/150\n",
            "16/16 [==============================] - 0s 9ms/step - loss: 62126.8789 - mae: 62127.3789\n",
            "Epoch 150/150\n",
            "16/16 [==============================] - 0s 10ms/step - loss: 69702.3125 - mae: 69702.8125\n"
          ],
          "name": "stdout"
        }
      ]
    },
    {
      "cell_type": "code",
      "metadata": {
        "colab": {
          "base_uri": "https://localhost:8080/",
          "height": 265
        },
        "id": "LQYWx8zGDpAM",
        "outputId": "f0329470-4bc1-4a28-82d9-d9eed4f54b56"
      },
      "source": [
        "loss= history.history['loss']\n",
        "mae = history.history['mae']\n",
        "epochs= range(len(loss))\n",
        "plt.plot(epochs,loss,'r')\n",
        "plt.plot(epochs,mae,'b')\n",
        "plt.show()\n"
      ],
      "execution_count": null,
      "outputs": [
        {
          "output_type": "display_data",
          "data": {
            "image/png": "[encoded data removed]",
            "text/plain": [
              "<Figure size 432x288 with 1 Axes>"
            ]
          },
          "metadata": {
            "tags": [],
            "needs_background": "light"
          }
        }
      ]
    },
    {
      "cell_type": "code",
      "metadata": {
        "id": "iUIAmlWLEZNd"
      },
      "source": [
        "rnn_forecast = model_forecast(model,series[...,np.newaxis],window_size,)\n",
        "rnn_forecast= rnn_forecast[split_time-window_size:-1,-1,0]"
      ],
      "execution_count": null,
      "outputs": []
    },
    {
      "cell_type": "code",
      "metadata": {
        "colab": {
          "base_uri": "https://localhost:8080/",
          "height": 541
        },
        "id": "CDBsJyxFEr2E",
        "outputId": "cf86a223-4aee-4f6e-af3f-9c9b2a20ac45"
      },
      "source": [
        "plot_series(time_test,x_test)\n",
        "plt.show()\n",
        "plot_series(time_test,rnn_forecast)\n",
        "plt.show()"
      ],
      "execution_count": null,
      "outputs": [
        {
          "output_type": "display_data",
          "data": {
            "image/png": "[encoded data removed]",
            "text/plain": [
              "<Figure size 432x288 with 1 Axes>"
            ]
          },
          "metadata": {
            "tags": [],
            "needs_background": "light"
          }
        },
        {
          "output_type": "display_data",
          "data": {
            "image/png": "[encoded data removed]",
            "text/plain": [
              "<Figure size 432x288 with 1 Axes>"
            ]
          },
          "metadata": {
            "tags": [],
            "needs_background": "light"
          }
        }
      ]
    },
    {
      "cell_type": "code",
      "metadata": {
        "colab": {
          "base_uri": "https://localhost:8080/"
        },
        "id": "MaJa1iT0E4dA",
        "outputId": "0820b347-beed-48e8-a5f2-f5588ca546c5"
      },
      "source": [
        "tf.keras.metrics.mean_absolute_error(x_test,rnn_forecast)"
      ],
      "execution_count": null,
      "outputs": [
        {
          "output_type": "execute_result",
          "data": {
            "text/plain": [
              "<tf.Tensor: shape=(), dtype=float32, numpy=86333.4>"
            ]
          },
          "metadata": {
            "tags": []
          },
          "execution_count": 77
        }
      ]
    },
    {
      "cell_type": "code",
      "metadata": {
        "id": "7niANG-CFICp"
      },
      "source": [
        ""
      ],
      "execution_count": null,
      "outputs": []
    }
  ]
}